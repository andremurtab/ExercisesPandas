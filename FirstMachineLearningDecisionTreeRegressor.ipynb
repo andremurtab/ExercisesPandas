{
 "cells": [
  {
   "cell_type": "markdown",
   "id": "ce49f465",
   "metadata": {
    "papermill": {
     "duration": 0.006277,
     "end_time": "2023-03-02T20:43:25.046880",
     "exception": false,
     "start_time": "2023-03-02T20:43:25.040603",
     "status": "completed"
    },
    "tags": []
   },
   "source": [
    "**This notebook is an exercise in the [Introduction to Machine Learning](https://www.kaggle.com/learn/intro-to-machine-learning) course.  You can reference the tutorial at [this link](https://www.kaggle.com/dansbecker/your-first-machine-learning-model).**\n",
    "\n",
    "---\n"
   ]
  },
  {
   "cell_type": "markdown",
   "id": "d9165026",
   "metadata": {
    "papermill": {
     "duration": 0.004908,
     "end_time": "2023-03-02T20:43:25.057515",
     "exception": false,
     "start_time": "2023-03-02T20:43:25.052607",
     "status": "completed"
    },
    "tags": []
   },
   "source": [
    "## Recap\n",
    "So far, you have loaded your data and reviewed it with the following code. Run this cell to set up your coding environment where the previous step left off."
   ]
  },
  {
   "cell_type": "code",
   "execution_count": 1,
   "id": "219bf8d1",
   "metadata": {
    "execution": {
     "iopub.execute_input": "2023-03-02T20:43:25.069936Z",
     "iopub.status.busy": "2023-03-02T20:43:25.069480Z",
     "iopub.status.idle": "2023-03-02T20:43:26.699294Z",
     "shell.execute_reply": "2023-03-02T20:43:26.697287Z"
    },
    "papermill": {
     "duration": 1.639784,
     "end_time": "2023-03-02T20:43:26.702568",
     "exception": false,
     "start_time": "2023-03-02T20:43:25.062784",
     "status": "completed"
    },
    "tags": []
   },
   "outputs": [
    {
     "name": "stdout",
     "output_type": "stream",
     "text": [
      "Setup Complete\n"
     ]
    }
   ],
   "source": [
    "# Code you have previously used to load data\n",
    "import pandas as pd\n",
    "\n",
    "# Path of the file to read\n",
    "iowa_file_path = '../input/home-data-for-ml-course/train.csv'\n",
    "\n",
    "home_data = pd.read_csv(iowa_file_path)\n",
    "\n",
    "# Set up code checking\n",
    "from learntools.core import binder\n",
    "binder.bind(globals())\n",
    "from learntools.machine_learning.ex3 import *\n",
    "\n",
    "print(\"Setup Complete\")"
   ]
  },
  {
   "cell_type": "markdown",
   "id": "0fa95ad8",
   "metadata": {
    "papermill": {
     "duration": 0.005171,
     "end_time": "2023-03-02T20:43:26.713722",
     "exception": false,
     "start_time": "2023-03-02T20:43:26.708551",
     "status": "completed"
    },
    "tags": []
   },
   "source": [
    "# Exercises\n",
    "\n",
    "## Step 1: Specify Prediction Target\n",
    "Select the target variable, which corresponds to the sales price. Save this to a new variable called `y`. You'll need to print a list of the columns to find the name of the column you need.\n"
   ]
  },
  {
   "cell_type": "code",
   "execution_count": 2,
   "id": "6610d56a",
   "metadata": {
    "execution": {
     "iopub.execute_input": "2023-03-02T20:43:26.726345Z",
     "iopub.status.busy": "2023-03-02T20:43:26.725937Z",
     "iopub.status.idle": "2023-03-02T20:43:26.755841Z",
     "shell.execute_reply": "2023-03-02T20:43:26.754171Z"
    },
    "papermill": {
     "duration": 0.039826,
     "end_time": "2023-03-02T20:43:26.758895",
     "exception": false,
     "start_time": "2023-03-02T20:43:26.719069",
     "status": "completed"
    },
    "tags": []
   },
   "outputs": [
    {
     "name": "stdout",
     "output_type": "stream",
     "text": [
      "   Id  MSSubClass MSZoning  LotFrontage  LotArea Street Alley LotShape  \\\n",
      "0   1          60       RL         65.0     8450   Pave   NaN      Reg   \n",
      "1   2          20       RL         80.0     9600   Pave   NaN      Reg   \n",
      "2   3          60       RL         68.0    11250   Pave   NaN      IR1   \n",
      "3   4          70       RL         60.0     9550   Pave   NaN      IR1   \n",
      "4   5          60       RL         84.0    14260   Pave   NaN      IR1   \n",
      "\n",
      "  LandContour Utilities  ... PoolArea PoolQC Fence MiscFeature MiscVal MoSold  \\\n",
      "0         Lvl    AllPub  ...        0    NaN   NaN         NaN       0      2   \n",
      "1         Lvl    AllPub  ...        0    NaN   NaN         NaN       0      5   \n",
      "2         Lvl    AllPub  ...        0    NaN   NaN         NaN       0      9   \n",
      "3         Lvl    AllPub  ...        0    NaN   NaN         NaN       0      2   \n",
      "4         Lvl    AllPub  ...        0    NaN   NaN         NaN       0     12   \n",
      "\n",
      "  YrSold  SaleType  SaleCondition  SalePrice  \n",
      "0   2008        WD         Normal     208500  \n",
      "1   2007        WD         Normal     181500  \n",
      "2   2008        WD         Normal     223500  \n",
      "3   2006        WD        Abnorml     140000  \n",
      "4   2008        WD         Normal     250000  \n",
      "\n",
      "[5 rows x 81 columns]\n"
     ]
    }
   ],
   "source": [
    "# print the list of columns in the dataset to find the name of the prediction target\n",
    "print(home_data.head())"
   ]
  },
  {
   "cell_type": "code",
   "execution_count": 3,
   "id": "923daa84",
   "metadata": {
    "execution": {
     "iopub.execute_input": "2023-03-02T20:43:26.773020Z",
     "iopub.status.busy": "2023-03-02T20:43:26.772270Z",
     "iopub.status.idle": "2023-03-02T20:43:26.788409Z",
     "shell.execute_reply": "2023-03-02T20:43:26.787103Z"
    },
    "papermill": {
     "duration": 0.026636,
     "end_time": "2023-03-02T20:43:26.791162",
     "exception": false,
     "start_time": "2023-03-02T20:43:26.764526",
     "status": "completed"
    },
    "tags": []
   },
   "outputs": [
    {
     "data": {
      "application/javascript": [
       "parent.postMessage({\"jupyterEvent\": \"custom.exercise_interaction\", \"data\": {\"outcomeType\": 1, \"valueTowardsCompletion\": 0.25, \"interactionType\": 1, \"questionType\": 2, \"questionId\": \"1_SetTarget\", \"learnToolsVersion\": \"0.3.4\", \"failureMessage\": \"\", \"exceptionClass\": \"\", \"trace\": \"\"}}, \"*\")"
      ],
      "text/plain": [
       "<IPython.core.display.Javascript object>"
      ]
     },
     "metadata": {},
     "output_type": "display_data"
    },
    {
     "data": {
      "text/markdown": [
       "<span style=\"color:#33cc33\">Correct</span>"
      ],
      "text/plain": [
       "Correct"
      ]
     },
     "metadata": {},
     "output_type": "display_data"
    }
   ],
   "source": [
    "y = home_data.SalePrice\n",
    "\n",
    "# Check your answer\n",
    "step_1.check()"
   ]
  },
  {
   "cell_type": "code",
   "execution_count": 4,
   "id": "ac117a7c",
   "metadata": {
    "collapsed": true,
    "execution": {
     "iopub.execute_input": "2023-03-02T20:43:26.804994Z",
     "iopub.status.busy": "2023-03-02T20:43:26.804544Z",
     "iopub.status.idle": "2023-03-02T20:43:26.809890Z",
     "shell.execute_reply": "2023-03-02T20:43:26.808544Z"
    },
    "jupyter": {
     "outputs_hidden": true
    },
    "papermill": {
     "duration": 0.015676,
     "end_time": "2023-03-02T20:43:26.813035",
     "exception": false,
     "start_time": "2023-03-02T20:43:26.797359",
     "status": "completed"
    },
    "tags": []
   },
   "outputs": [],
   "source": [
    "# The lines below will show you a hint or the solution.\n",
    "# step_1.hint() \n",
    "# step_1.solution()"
   ]
  },
  {
   "cell_type": "markdown",
   "id": "d172b35f",
   "metadata": {
    "papermill": {
     "duration": 0.005573,
     "end_time": "2023-03-02T20:43:26.825569",
     "exception": false,
     "start_time": "2023-03-02T20:43:26.819996",
     "status": "completed"
    },
    "tags": []
   },
   "source": [
    "## Step 2: Create X\n",
    "Now you will create a DataFrame called `X` holding the predictive features.\n",
    "\n",
    "Since you want only some columns from the original data, you'll first create a list with the names of the columns you want in `X`.\n",
    "\n",
    "You'll use just the following columns in the list (you can copy and paste the whole list to save some typing, though you'll still need to add quotes):\n",
    "  * LotArea\n",
    "  * YearBuilt\n",
    "  * 1stFlrSF\n",
    "  * 2ndFlrSF\n",
    "  * FullBath\n",
    "  * BedroomAbvGr\n",
    "  * TotRmsAbvGrd\n",
    "\n",
    "After you've created that list of features, use it to create the DataFrame that you'll use to fit the model."
   ]
  },
  {
   "cell_type": "code",
   "execution_count": 5,
   "id": "01bdf360",
   "metadata": {
    "execution": {
     "iopub.execute_input": "2023-03-02T20:43:26.840790Z",
     "iopub.status.busy": "2023-03-02T20:43:26.840358Z",
     "iopub.status.idle": "2023-03-02T20:43:26.861581Z",
     "shell.execute_reply": "2023-03-02T20:43:26.859097Z"
    },
    "papermill": {
     "duration": 0.032312,
     "end_time": "2023-03-02T20:43:26.864965",
     "exception": false,
     "start_time": "2023-03-02T20:43:26.832653",
     "status": "completed"
    },
    "tags": []
   },
   "outputs": [
    {
     "name": "stdout",
     "output_type": "stream",
     "text": [
      "<bound method NDFrame.describe of       LotArea  YearBuilt  1stFlrSF  2ndFlrSF  FullBath  BedroomAbvGr  \\\n",
      "0        8450       2003       856       854         2             3   \n",
      "1        9600       1976      1262         0         2             3   \n",
      "2       11250       2001       920       866         2             3   \n",
      "3        9550       1915       961       756         1             3   \n",
      "4       14260       2000      1145      1053         2             4   \n",
      "...       ...        ...       ...       ...       ...           ...   \n",
      "1455     7917       1999       953       694         2             3   \n",
      "1456    13175       1978      2073         0         2             3   \n",
      "1457     9042       1941      1188      1152         2             4   \n",
      "1458     9717       1950      1078         0         1             2   \n",
      "1459     9937       1965      1256         0         1             3   \n",
      "\n",
      "      TotRmsAbvGrd  \n",
      "0                8  \n",
      "1                6  \n",
      "2                6  \n",
      "3                7  \n",
      "4                9  \n",
      "...            ...  \n",
      "1455             7  \n",
      "1456             7  \n",
      "1457             9  \n",
      "1458             5  \n",
      "1459             6  \n",
      "\n",
      "[1460 rows x 7 columns]>\n"
     ]
    },
    {
     "data": {
      "application/javascript": [
       "parent.postMessage({\"jupyterEvent\": \"custom.exercise_interaction\", \"data\": {\"outcomeType\": 1, \"valueTowardsCompletion\": 0.25, \"interactionType\": 1, \"questionType\": 2, \"questionId\": \"2_SelectPredictionData\", \"learnToolsVersion\": \"0.3.4\", \"failureMessage\": \"\", \"exceptionClass\": \"\", \"trace\": \"\"}}, \"*\")"
      ],
      "text/plain": [
       "<IPython.core.display.Javascript object>"
      ]
     },
     "metadata": {},
     "output_type": "display_data"
    },
    {
     "data": {
      "text/markdown": [
       "<span style=\"color:#33cc33\">Correct</span>"
      ],
      "text/plain": [
       "Correct"
      ]
     },
     "metadata": {},
     "output_type": "display_data"
    }
   ],
   "source": [
    "# Create the list of features below\n",
    "feature_names = ['LotArea','YearBuilt','1stFlrSF','2ndFlrSF','FullBath','BedroomAbvGr','TotRmsAbvGrd']\n",
    "\n",
    "# Select data corresponding to features in feature_names\n",
    "X = home_data[feature_names]\n",
    "\n",
    "print(X.describe)\n",
    "\n",
    "# Check your answer\n",
    "step_2.check()"
   ]
  },
  {
   "cell_type": "code",
   "execution_count": 6,
   "id": "a274a777",
   "metadata": {
    "collapsed": true,
    "execution": {
     "iopub.execute_input": "2023-03-02T20:43:26.880140Z",
     "iopub.status.busy": "2023-03-02T20:43:26.879572Z",
     "iopub.status.idle": "2023-03-02T20:43:26.885718Z",
     "shell.execute_reply": "2023-03-02T20:43:26.884391Z"
    },
    "jupyter": {
     "outputs_hidden": true
    },
    "papermill": {
     "duration": 0.016842,
     "end_time": "2023-03-02T20:43:26.888475",
     "exception": false,
     "start_time": "2023-03-02T20:43:26.871633",
     "status": "completed"
    },
    "tags": []
   },
   "outputs": [],
   "source": [
    "# step_2.hint()\n",
    "# step_2.solution()"
   ]
  },
  {
   "cell_type": "markdown",
   "id": "4ff0106a",
   "metadata": {
    "papermill": {
     "duration": 0.005769,
     "end_time": "2023-03-02T20:43:26.900525",
     "exception": false,
     "start_time": "2023-03-02T20:43:26.894756",
     "status": "completed"
    },
    "tags": []
   },
   "source": [
    "## Review Data\n",
    "Before building a model, take a quick look at **X** to verify it looks sensible"
   ]
  },
  {
   "cell_type": "code",
   "execution_count": 7,
   "id": "70fb56cd",
   "metadata": {
    "execution": {
     "iopub.execute_input": "2023-03-02T20:43:26.916462Z",
     "iopub.status.busy": "2023-03-02T20:43:26.916021Z",
     "iopub.status.idle": "2023-03-02T20:43:26.929741Z",
     "shell.execute_reply": "2023-03-02T20:43:26.928362Z"
    },
    "papermill": {
     "duration": 0.02654,
     "end_time": "2023-03-02T20:43:26.933707",
     "exception": false,
     "start_time": "2023-03-02T20:43:26.907167",
     "status": "completed"
    },
    "tags": []
   },
   "outputs": [
    {
     "name": "stdout",
     "output_type": "stream",
     "text": [
      "<bound method NDFrame.describe of       LotArea  YearBuilt  1stFlrSF  2ndFlrSF  FullBath  BedroomAbvGr  \\\n",
      "0        8450       2003       856       854         2             3   \n",
      "1        9600       1976      1262         0         2             3   \n",
      "2       11250       2001       920       866         2             3   \n",
      "3        9550       1915       961       756         1             3   \n",
      "4       14260       2000      1145      1053         2             4   \n",
      "...       ...        ...       ...       ...       ...           ...   \n",
      "1455     7917       1999       953       694         2             3   \n",
      "1456    13175       1978      2073         0         2             3   \n",
      "1457     9042       1941      1188      1152         2             4   \n",
      "1458     9717       1950      1078         0         1             2   \n",
      "1459     9937       1965      1256         0         1             3   \n",
      "\n",
      "      TotRmsAbvGrd  \n",
      "0                8  \n",
      "1                6  \n",
      "2                6  \n",
      "3                7  \n",
      "4                9  \n",
      "...            ...  \n",
      "1455             7  \n",
      "1456             7  \n",
      "1457             9  \n",
      "1458             5  \n",
      "1459             6  \n",
      "\n",
      "[1460 rows x 7 columns]>\n",
      "   LotArea  YearBuilt  1stFlrSF  2ndFlrSF  FullBath  BedroomAbvGr  \\\n",
      "0     8450       2003       856       854         2             3   \n",
      "1     9600       1976      1262         0         2             3   \n",
      "2    11250       2001       920       866         2             3   \n",
      "3     9550       1915       961       756         1             3   \n",
      "4    14260       2000      1145      1053         2             4   \n",
      "\n",
      "   TotRmsAbvGrd  \n",
      "0             8  \n",
      "1             6  \n",
      "2             6  \n",
      "3             7  \n",
      "4             9  \n"
     ]
    }
   ],
   "source": [
    "# Review data\n",
    "# print description or statistics from X\n",
    "print(X.describe)\n",
    "\n",
    "# print the top few lines\n",
    "print(X.head())"
   ]
  },
  {
   "cell_type": "markdown",
   "id": "e3f124a5",
   "metadata": {
    "papermill": {
     "duration": 0.006019,
     "end_time": "2023-03-02T20:43:26.949000",
     "exception": false,
     "start_time": "2023-03-02T20:43:26.942981",
     "status": "completed"
    },
    "tags": []
   },
   "source": [
    "## Step 3: Specify and Fit Model\n",
    "Create a `DecisionTreeRegressor` and save it iowa_model. Ensure you've done the relevant import from sklearn to run this command.\n",
    "\n",
    "Then fit the model you just created using the data in `X` and `y` that you saved above."
   ]
  },
  {
   "cell_type": "code",
   "execution_count": 8,
   "id": "93d70909",
   "metadata": {
    "execution": {
     "iopub.execute_input": "2023-03-02T20:43:26.964637Z",
     "iopub.status.busy": "2023-03-02T20:43:26.964007Z",
     "iopub.status.idle": "2023-03-02T20:43:26.988038Z",
     "shell.execute_reply": "2023-03-02T20:43:26.986616Z"
    },
    "papermill": {
     "duration": 0.035454,
     "end_time": "2023-03-02T20:43:26.990749",
     "exception": false,
     "start_time": "2023-03-02T20:43:26.955295",
     "status": "completed"
    },
    "tags": []
   },
   "outputs": [
    {
     "data": {
      "application/javascript": [
       "parent.postMessage({\"jupyterEvent\": \"custom.exercise_interaction\", \"data\": {\"outcomeType\": 1, \"valueTowardsCompletion\": 0.25, \"interactionType\": 1, \"questionType\": 2, \"questionId\": \"3_CreateModel\", \"learnToolsVersion\": \"0.3.4\", \"failureMessage\": \"\", \"exceptionClass\": \"\", \"trace\": \"\"}}, \"*\")"
      ],
      "text/plain": [
       "<IPython.core.display.Javascript object>"
      ]
     },
     "metadata": {},
     "output_type": "display_data"
    },
    {
     "data": {
      "text/markdown": [
       "<span style=\"color:#33cc33\">Correct</span>"
      ],
      "text/plain": [
       "Correct"
      ]
     },
     "metadata": {},
     "output_type": "display_data"
    }
   ],
   "source": [
    "from sklearn.tree import DecisionTreeRegressor\n",
    "#specify the model. \n",
    "#For model reproducibility, set a numeric value for random_state when specifying the model\n",
    "iowa_model = DecisionTreeRegressor(random_state=1)\n",
    "\n",
    "# Fit the model\n",
    "iowa_model.fit(X, y)\n",
    "\n",
    "# Check your answer\n",
    "step_3.check()"
   ]
  },
  {
   "cell_type": "code",
   "execution_count": 9,
   "id": "a6dc0dad",
   "metadata": {
    "execution": {
     "iopub.execute_input": "2023-03-02T20:43:27.006007Z",
     "iopub.status.busy": "2023-03-02T20:43:27.005551Z",
     "iopub.status.idle": "2023-03-02T20:43:27.011186Z",
     "shell.execute_reply": "2023-03-02T20:43:27.009577Z"
    },
    "papermill": {
     "duration": 0.016421,
     "end_time": "2023-03-02T20:43:27.013869",
     "exception": false,
     "start_time": "2023-03-02T20:43:26.997448",
     "status": "completed"
    },
    "tags": []
   },
   "outputs": [],
   "source": [
    "# step_3.hint()\n",
    "#step_3.solution()"
   ]
  },
  {
   "cell_type": "markdown",
   "id": "09756a76",
   "metadata": {
    "papermill": {
     "duration": 0.006057,
     "end_time": "2023-03-02T20:43:27.026771",
     "exception": false,
     "start_time": "2023-03-02T20:43:27.020714",
     "status": "completed"
    },
    "tags": []
   },
   "source": [
    "## Step 4: Make Predictions\n",
    "Make predictions with the model's `predict` command using `X` as the data. Save the results to a variable called `predictions`."
   ]
  },
  {
   "cell_type": "code",
   "execution_count": 10,
   "id": "5f29370a",
   "metadata": {
    "execution": {
     "iopub.execute_input": "2023-03-02T20:43:27.042554Z",
     "iopub.status.busy": "2023-03-02T20:43:27.042108Z",
     "iopub.status.idle": "2023-03-02T20:43:27.059003Z",
     "shell.execute_reply": "2023-03-02T20:43:27.057849Z"
    },
    "papermill": {
     "duration": 0.027838,
     "end_time": "2023-03-02T20:43:27.061937",
     "exception": false,
     "start_time": "2023-03-02T20:43:27.034099",
     "status": "completed"
    },
    "tags": []
   },
   "outputs": [
    {
     "name": "stdout",
     "output_type": "stream",
     "text": [
      "[208500. 181500. 223500. ... 266500. 142125. 147500.]\n"
     ]
    },
    {
     "data": {
      "application/javascript": [
       "parent.postMessage({\"jupyterEvent\": \"custom.exercise_interaction\", \"data\": {\"outcomeType\": 1, \"valueTowardsCompletion\": 0.25, \"interactionType\": 1, \"questionType\": 2, \"questionId\": \"4_MakePredictions\", \"learnToolsVersion\": \"0.3.4\", \"failureMessage\": \"\", \"exceptionClass\": \"\", \"trace\": \"\"}}, \"*\")"
      ],
      "text/plain": [
       "<IPython.core.display.Javascript object>"
      ]
     },
     "metadata": {},
     "output_type": "display_data"
    },
    {
     "data": {
      "text/markdown": [
       "<span style=\"color:#33cc33\">Correct</span>"
      ],
      "text/plain": [
       "Correct"
      ]
     },
     "metadata": {},
     "output_type": "display_data"
    }
   ],
   "source": [
    "predictions = iowa_model.predict(X)\n",
    "print(predictions)\n",
    "\n",
    "# Check your answer\n",
    "step_4.check()"
   ]
  },
  {
   "cell_type": "code",
   "execution_count": 11,
   "id": "37b8efd3",
   "metadata": {
    "collapsed": true,
    "execution": {
     "iopub.execute_input": "2023-03-02T20:43:27.078104Z",
     "iopub.status.busy": "2023-03-02T20:43:27.077551Z",
     "iopub.status.idle": "2023-03-02T20:43:27.083151Z",
     "shell.execute_reply": "2023-03-02T20:43:27.082068Z"
    },
    "jupyter": {
     "outputs_hidden": true
    },
    "papermill": {
     "duration": 0.016987,
     "end_time": "2023-03-02T20:43:27.086059",
     "exception": false,
     "start_time": "2023-03-02T20:43:27.069072",
     "status": "completed"
    },
    "tags": []
   },
   "outputs": [],
   "source": [
    "# step_4.hint()\n",
    "# step_4.solution()"
   ]
  },
  {
   "cell_type": "markdown",
   "id": "4c7cdcbe",
   "metadata": {
    "papermill": {
     "duration": 0.006458,
     "end_time": "2023-03-02T20:43:27.099869",
     "exception": false,
     "start_time": "2023-03-02T20:43:27.093411",
     "status": "completed"
    },
    "tags": []
   },
   "source": [
    "## Think About Your Results\n",
    "\n",
    "Use the `head` method to compare the top few predictions to the actual home values (in `y`) for those same homes. Anything surprising?\n"
   ]
  },
  {
   "cell_type": "code",
   "execution_count": 12,
   "id": "2d2d9820",
   "metadata": {
    "execution": {
     "iopub.execute_input": "2023-03-02T20:43:27.115806Z",
     "iopub.status.busy": "2023-03-02T20:43:27.115336Z",
     "iopub.status.idle": "2023-03-02T20:43:27.121666Z",
     "shell.execute_reply": "2023-03-02T20:43:27.119935Z"
    },
    "papermill": {
     "duration": 0.017662,
     "end_time": "2023-03-02T20:43:27.124409",
     "exception": false,
     "start_time": "2023-03-02T20:43:27.106747",
     "status": "completed"
    },
    "tags": []
   },
   "outputs": [],
   "source": [
    "# You can write code in this cell\n"
   ]
  },
  {
   "cell_type": "markdown",
   "id": "aed58120",
   "metadata": {
    "papermill": {
     "duration": 0.006424,
     "end_time": "2023-03-02T20:43:27.137711",
     "exception": false,
     "start_time": "2023-03-02T20:43:27.131287",
     "status": "completed"
    },
    "tags": []
   },
   "source": [
    "It's natural to ask how accurate the model's predictions will be and how you can improve that. That will be you're next step.\n",
    "\n",
    "# Keep Going\n",
    "\n",
    "You are ready for **[Model Validation](https://www.kaggle.com/dansbecker/model-validation).**\n"
   ]
  },
  {
   "cell_type": "markdown",
   "id": "27570161",
   "metadata": {
    "papermill": {
     "duration": 0.006754,
     "end_time": "2023-03-02T20:43:27.151203",
     "exception": false,
     "start_time": "2023-03-02T20:43:27.144449",
     "status": "completed"
    },
    "tags": []
   },
   "source": [
    "---\n",
    "\n",
    "\n",
    "\n",
    "\n",
    "*Have questions or comments? Visit the [course discussion forum](https://www.kaggle.com/learn/intro-to-machine-learning/discussion) to chat with other learners.*"
   ]
  }
 ],
 "metadata": {
  "kernelspec": {
   "display_name": "Python 3",
   "language": "python",
   "name": "python3"
  },
  "language_info": {
   "codemirror_mode": {
    "name": "ipython",
    "version": 3
   },
   "file_extension": ".py",
   "mimetype": "text/x-python",
   "name": "python",
   "nbconvert_exporter": "python",
   "pygments_lexer": "ipython3",
   "version": "3.7.12"
  },
  "papermill": {
   "default_parameters": {},
   "duration": 14.890645,
   "end_time": "2023-03-02T20:43:27.983639",
   "environment_variables": {},
   "exception": null,
   "input_path": "__notebook__.ipynb",
   "output_path": "__notebook__.ipynb",
   "parameters": {},
   "start_time": "2023-03-02T20:43:13.092994",
   "version": "2.4.0"
  }
 },
 "nbformat": 4,
 "nbformat_minor": 5
}
