{
 "cells": [
  {
   "cell_type": "markdown",
   "id": "ce59fdf9",
   "metadata": {
    "papermill": {
     "duration": 0.015257,
     "end_time": "2023-03-02T21:53:24.194761",
     "exception": false,
     "start_time": "2023-03-02T21:53:24.179504",
     "status": "completed"
    },
    "tags": []
   },
   "source": [
    "**This notebook is an exercise in the [Introduction to Machine Learning](https://www.kaggle.com/learn/intro-to-machine-learning) course.  You can reference the tutorial at [this link](https://www.kaggle.com/dansbecker/your-first-machine-learning-model).**\n",
    "\n",
    "---\n"
   ]
  },
  {
   "cell_type": "markdown",
   "id": "28aa7f86",
   "metadata": {
    "papermill": {
     "duration": 0.009916,
     "end_time": "2023-03-02T21:53:24.210193",
     "exception": false,
     "start_time": "2023-03-02T21:53:24.200277",
     "status": "completed"
    },
    "tags": []
   },
   "source": [
    "## Recap\n",
    "So far, you have loaded your data and reviewed it with the following code. Run this cell to set up your coding environment where the previous step left off."
   ]
  },
  {
   "cell_type": "code",
   "execution_count": 1,
   "id": "8535c1ee",
   "metadata": {
    "execution": {
     "iopub.execute_input": "2023-03-02T21:53:24.249634Z",
     "iopub.status.busy": "2023-03-02T21:53:24.249148Z",
     "iopub.status.idle": "2023-03-02T21:53:29.822665Z",
     "shell.execute_reply": "2023-03-02T21:53:29.819628Z"
    },
    "papermill": {
     "duration": 5.598658,
     "end_time": "2023-03-02T21:53:29.826231",
     "exception": false,
     "start_time": "2023-03-02T21:53:24.227573",
     "status": "completed"
    },
    "tags": []
   },
   "outputs": [
    {
     "name": "stdout",
     "output_type": "stream",
     "text": [
      "Setup Complete\n"
     ]
    }
   ],
   "source": [
    "# Code you have previously used to load data\n",
    "import pandas as pd\n",
    "\n",
    "# Path of the file to read\n",
    "iowa_file_path = '../input/home-data-for-ml-course/train.csv'\n",
    "\n",
    "home_data = pd.read_csv(iowa_file_path)\n",
    "\n",
    "# Set up code checking\n",
    "from learntools.core import binder\n",
    "binder.bind(globals())\n",
    "from learntools.machine_learning.ex3 import *\n",
    "\n",
    "print(\"Setup Complete\")"
   ]
  },
  {
   "cell_type": "markdown",
   "id": "07e9a048",
   "metadata": {
    "papermill": {
     "duration": 0.005437,
     "end_time": "2023-03-02T21:53:29.837221",
     "exception": false,
     "start_time": "2023-03-02T21:53:29.831784",
     "status": "completed"
    },
    "tags": []
   },
   "source": [
    "# Exercises\n",
    "\n",
    "## Step 1: Specify Prediction Target\n",
    "Select the target variable, which corresponds to the sales price. Save this to a new variable called `y`. You'll need to print a list of the columns to find the name of the column you need.\n"
   ]
  },
  {
   "cell_type": "code",
   "execution_count": 2,
   "id": "99390892",
   "metadata": {
    "execution": {
     "iopub.execute_input": "2023-03-02T21:53:29.849443Z",
     "iopub.status.busy": "2023-03-02T21:53:29.849078Z",
     "iopub.status.idle": "2023-03-02T21:53:29.857263Z",
     "shell.execute_reply": "2023-03-02T21:53:29.855412Z"
    },
    "papermill": {
     "duration": 0.018662,
     "end_time": "2023-03-02T21:53:29.861222",
     "exception": false,
     "start_time": "2023-03-02T21:53:29.842560",
     "status": "completed"
    },
    "tags": []
   },
   "outputs": [
    {
     "name": "stdout",
     "output_type": "stream",
     "text": [
      "Index(['Id', 'MSSubClass', 'MSZoning', 'LotFrontage', 'LotArea', 'Street',\n",
      "       'Alley', 'LotShape', 'LandContour', 'Utilities', 'LotConfig',\n",
      "       'LandSlope', 'Neighborhood', 'Condition1', 'Condition2', 'BldgType',\n",
      "       'HouseStyle', 'OverallQual', 'OverallCond', 'YearBuilt', 'YearRemodAdd',\n",
      "       'RoofStyle', 'RoofMatl', 'Exterior1st', 'Exterior2nd', 'MasVnrType',\n",
      "       'MasVnrArea', 'ExterQual', 'ExterCond', 'Foundation', 'BsmtQual',\n",
      "       'BsmtCond', 'BsmtExposure', 'BsmtFinType1', 'BsmtFinSF1',\n",
      "       'BsmtFinType2', 'BsmtFinSF2', 'BsmtUnfSF', 'TotalBsmtSF', 'Heating',\n",
      "       'HeatingQC', 'CentralAir', 'Electrical', '1stFlrSF', '2ndFlrSF',\n",
      "       'LowQualFinSF', 'GrLivArea', 'BsmtFullBath', 'BsmtHalfBath', 'FullBath',\n",
      "       'HalfBath', 'BedroomAbvGr', 'KitchenAbvGr', 'KitchenQual',\n",
      "       'TotRmsAbvGrd', 'Functional', 'Fireplaces', 'FireplaceQu', 'GarageType',\n",
      "       'GarageYrBlt', 'GarageFinish', 'GarageCars', 'GarageArea', 'GarageQual',\n",
      "       'GarageCond', 'PavedDrive', 'WoodDeckSF', 'OpenPorchSF',\n",
      "       'EnclosedPorch', '3SsnPorch', 'ScreenPorch', 'PoolArea', 'PoolQC',\n",
      "       'Fence', 'MiscFeature', 'MiscVal', 'MoSold', 'YrSold', 'SaleType',\n",
      "       'SaleCondition', 'SalePrice'],\n",
      "      dtype='object')\n"
     ]
    }
   ],
   "source": [
    "# print the list of columns in the dataset to find the name of the prediction target\n",
    "print(home_data.columns)"
   ]
  },
  {
   "cell_type": "code",
   "execution_count": 3,
   "id": "23ae4a31",
   "metadata": {
    "execution": {
     "iopub.execute_input": "2023-03-02T21:53:29.876190Z",
     "iopub.status.busy": "2023-03-02T21:53:29.875828Z",
     "iopub.status.idle": "2023-03-02T21:53:29.898970Z",
     "shell.execute_reply": "2023-03-02T21:53:29.896537Z"
    },
    "papermill": {
     "duration": 0.036016,
     "end_time": "2023-03-02T21:53:29.903629",
     "exception": false,
     "start_time": "2023-03-02T21:53:29.867613",
     "status": "completed"
    },
    "tags": []
   },
   "outputs": [
    {
     "data": {
      "application/javascript": [
       "parent.postMessage({\"jupyterEvent\": \"custom.exercise_interaction\", \"data\": {\"outcomeType\": 1, \"valueTowardsCompletion\": 0.25, \"interactionType\": 1, \"questionType\": 2, \"questionId\": \"1_SetTarget\", \"learnToolsVersion\": \"0.3.4\", \"failureMessage\": \"\", \"exceptionClass\": \"\", \"trace\": \"\"}}, \"*\")"
      ],
      "text/plain": [
       "<IPython.core.display.Javascript object>"
      ]
     },
     "metadata": {},
     "output_type": "display_data"
    },
    {
     "data": {
      "text/markdown": [
       "<span style=\"color:#33cc33\">Correct</span>"
      ],
      "text/plain": [
       "Correct"
      ]
     },
     "metadata": {},
     "output_type": "display_data"
    }
   ],
   "source": [
    "y = home_data.SalePrice\n",
    "\n",
    "# Check your answer\n",
    "step_1.check()"
   ]
  },
  {
   "cell_type": "code",
   "execution_count": 4,
   "id": "2fb856ad",
   "metadata": {
    "collapsed": true,
    "execution": {
     "iopub.execute_input": "2023-03-02T21:53:29.953925Z",
     "iopub.status.busy": "2023-03-02T21:53:29.938288Z",
     "iopub.status.idle": "2023-03-02T21:53:29.964795Z",
     "shell.execute_reply": "2023-03-02T21:53:29.960979Z"
    },
    "jupyter": {
     "outputs_hidden": true
    },
    "papermill": {
     "duration": 0.053444,
     "end_time": "2023-03-02T21:53:29.972783",
     "exception": false,
     "start_time": "2023-03-02T21:53:29.919339",
     "status": "completed"
    },
    "tags": []
   },
   "outputs": [],
   "source": [
    "# The lines below will show you a hint or the solution.\n",
    "# step_1.hint() \n",
    "# step_1.solution()"
   ]
  },
  {
   "cell_type": "markdown",
   "id": "b66136c4",
   "metadata": {
    "papermill": {
     "duration": 0.004955,
     "end_time": "2023-03-02T21:53:29.996754",
     "exception": false,
     "start_time": "2023-03-02T21:53:29.991799",
     "status": "completed"
    },
    "tags": []
   },
   "source": [
    "## Step 2: Create X\n",
    "Now you will create a DataFrame called `X` holding the predictive features.\n",
    "\n",
    "Since you want only some columns from the original data, you'll first create a list with the names of the columns you want in `X`.\n",
    "\n",
    "You'll use just the following columns in the list (you can copy and paste the whole list to save some typing, though you'll still need to add quotes):\n",
    "  * LotArea\n",
    "  * YearBuilt\n",
    "  * 1stFlrSF\n",
    "  * 2ndFlrSF\n",
    "  * FullBath\n",
    "  * BedroomAbvGr\n",
    "  * TotRmsAbvGrd\n",
    "\n",
    "After you've created that list of features, use it to create the DataFrame that you'll use to fit the model."
   ]
  },
  {
   "cell_type": "code",
   "execution_count": 5,
   "id": "bc459718",
   "metadata": {
    "execution": {
     "iopub.execute_input": "2023-03-02T21:53:30.038317Z",
     "iopub.status.busy": "2023-03-02T21:53:30.037972Z",
     "iopub.status.idle": "2023-03-02T21:53:30.113031Z",
     "shell.execute_reply": "2023-03-02T21:53:30.098468Z"
    },
    "papermill": {
     "duration": 0.109038,
     "end_time": "2023-03-02T21:53:30.119145",
     "exception": false,
     "start_time": "2023-03-02T21:53:30.010107",
     "status": "completed"
    },
    "tags": []
   },
   "outputs": [
    {
     "name": "stdout",
     "output_type": "stream",
     "text": [
      "<bound method NDFrame.describe of       LotArea  YearBuilt  1stFlrSF  2ndFlrSF  FullBath  BedroomAbvGr  \\\n",
      "0        8450       2003       856       854         2             3   \n",
      "1        9600       1976      1262         0         2             3   \n",
      "2       11250       2001       920       866         2             3   \n",
      "3        9550       1915       961       756         1             3   \n",
      "4       14260       2000      1145      1053         2             4   \n",
      "...       ...        ...       ...       ...       ...           ...   \n",
      "1455     7917       1999       953       694         2             3   \n",
      "1456    13175       1978      2073         0         2             3   \n",
      "1457     9042       1941      1188      1152         2             4   \n",
      "1458     9717       1950      1078         0         1             2   \n",
      "1459     9937       1965      1256         0         1             3   \n",
      "\n",
      "      TotRmsAbvGrd  \n",
      "0                8  \n",
      "1                6  \n",
      "2                6  \n",
      "3                7  \n",
      "4                9  \n",
      "...            ...  \n",
      "1455             7  \n",
      "1456             7  \n",
      "1457             9  \n",
      "1458             5  \n",
      "1459             6  \n",
      "\n",
      "[1460 rows x 7 columns]>\n"
     ]
    },
    {
     "data": {
      "application/javascript": [
       "parent.postMessage({\"jupyterEvent\": \"custom.exercise_interaction\", \"data\": {\"outcomeType\": 1, \"valueTowardsCompletion\": 0.25, \"interactionType\": 1, \"questionType\": 2, \"questionId\": \"2_SelectPredictionData\", \"learnToolsVersion\": \"0.3.4\", \"failureMessage\": \"\", \"exceptionClass\": \"\", \"trace\": \"\"}}, \"*\")"
      ],
      "text/plain": [
       "<IPython.core.display.Javascript object>"
      ]
     },
     "metadata": {},
     "output_type": "display_data"
    },
    {
     "data": {
      "text/markdown": [
       "<span style=\"color:#33cc33\">Correct</span>"
      ],
      "text/plain": [
       "Correct"
      ]
     },
     "metadata": {},
     "output_type": "display_data"
    }
   ],
   "source": [
    "# Create the list of features below\n",
    "feature_names = ['LotArea','YearBuilt','1stFlrSF','2ndFlrSF','FullBath','BedroomAbvGr','TotRmsAbvGrd']\n",
    "\n",
    "# Select data corresponding to features in feature_names\n",
    "X = home_data[feature_names]\n",
    "\n",
    "print(X.describe)\n",
    "\n",
    "# Check your answer\n",
    "step_2.check()"
   ]
  },
  {
   "cell_type": "code",
   "execution_count": 6,
   "id": "b20606e1",
   "metadata": {
    "collapsed": true,
    "execution": {
     "iopub.execute_input": "2023-03-02T21:53:30.147733Z",
     "iopub.status.busy": "2023-03-02T21:53:30.147261Z",
     "iopub.status.idle": "2023-03-02T21:53:30.166169Z",
     "shell.execute_reply": "2023-03-02T21:53:30.162375Z"
    },
    "jupyter": {
     "outputs_hidden": true
    },
    "papermill": {
     "duration": 0.047247,
     "end_time": "2023-03-02T21:53:30.174238",
     "exception": false,
     "start_time": "2023-03-02T21:53:30.126991",
     "status": "completed"
    },
    "tags": []
   },
   "outputs": [],
   "source": [
    "# step_2.hint()\n",
    "# step_2.solution()"
   ]
  },
  {
   "cell_type": "markdown",
   "id": "9cf95fcf",
   "metadata": {
    "papermill": {
     "duration": 0.01077,
     "end_time": "2023-03-02T21:53:30.190478",
     "exception": false,
     "start_time": "2023-03-02T21:53:30.179708",
     "status": "completed"
    },
    "tags": []
   },
   "source": [
    "## Review Data\n",
    "Before building a model, take a quick look at **X** to verify it looks sensible"
   ]
  },
  {
   "cell_type": "code",
   "execution_count": 7,
   "id": "092d12c9",
   "metadata": {
    "execution": {
     "iopub.execute_input": "2023-03-02T21:53:30.233473Z",
     "iopub.status.busy": "2023-03-02T21:53:30.233003Z",
     "iopub.status.idle": "2023-03-02T21:53:30.260162Z",
     "shell.execute_reply": "2023-03-02T21:53:30.258466Z"
    },
    "papermill": {
     "duration": 0.052268,
     "end_time": "2023-03-02T21:53:30.263325",
     "exception": false,
     "start_time": "2023-03-02T21:53:30.211057",
     "status": "completed"
    },
    "tags": []
   },
   "outputs": [
    {
     "name": "stdout",
     "output_type": "stream",
     "text": [
      "<bound method NDFrame.describe of       LotArea  YearBuilt  1stFlrSF  2ndFlrSF  FullBath  BedroomAbvGr  \\\n",
      "0        8450       2003       856       854         2             3   \n",
      "1        9600       1976      1262         0         2             3   \n",
      "2       11250       2001       920       866         2             3   \n",
      "3        9550       1915       961       756         1             3   \n",
      "4       14260       2000      1145      1053         2             4   \n",
      "...       ...        ...       ...       ...       ...           ...   \n",
      "1455     7917       1999       953       694         2             3   \n",
      "1456    13175       1978      2073         0         2             3   \n",
      "1457     9042       1941      1188      1152         2             4   \n",
      "1458     9717       1950      1078         0         1             2   \n",
      "1459     9937       1965      1256         0         1             3   \n",
      "\n",
      "      TotRmsAbvGrd  \n",
      "0                8  \n",
      "1                6  \n",
      "2                6  \n",
      "3                7  \n",
      "4                9  \n",
      "...            ...  \n",
      "1455             7  \n",
      "1456             7  \n",
      "1457             9  \n",
      "1458             5  \n",
      "1459             6  \n",
      "\n",
      "[1460 rows x 7 columns]>\n",
      "   LotArea  YearBuilt  1stFlrSF  2ndFlrSF  FullBath  BedroomAbvGr  \\\n",
      "0     8450       2003       856       854         2             3   \n",
      "1     9600       1976      1262         0         2             3   \n",
      "2    11250       2001       920       866         2             3   \n",
      "3     9550       1915       961       756         1             3   \n",
      "4    14260       2000      1145      1053         2             4   \n",
      "\n",
      "   TotRmsAbvGrd  \n",
      "0             8  \n",
      "1             6  \n",
      "2             6  \n",
      "3             7  \n",
      "4             9  \n"
     ]
    }
   ],
   "source": [
    "# Review data\n",
    "# print description or statistics from X\n",
    "print(X.describe)\n",
    "\n",
    "# print the top few lines\n",
    "print(X.head())"
   ]
  },
  {
   "cell_type": "markdown",
   "id": "8d731240",
   "metadata": {
    "papermill": {
     "duration": 0.021121,
     "end_time": "2023-03-02T21:53:30.301347",
     "exception": false,
     "start_time": "2023-03-02T21:53:30.280226",
     "status": "completed"
    },
    "tags": []
   },
   "source": [
    "## Step 3: Specify and Fit Model\n",
    "Create a `DecisionTreeRegressor` and save it iowa_model. Ensure you've done the relevant import from sklearn to run this command.\n",
    "\n",
    "Then fit the model you just created using the data in `X` and `y` that you saved above."
   ]
  },
  {
   "cell_type": "code",
   "execution_count": 8,
   "id": "5326f023",
   "metadata": {
    "execution": {
     "iopub.execute_input": "2023-03-02T21:53:30.328478Z",
     "iopub.status.busy": "2023-03-02T21:53:30.327807Z",
     "iopub.status.idle": "2023-03-02T21:53:30.378609Z",
     "shell.execute_reply": "2023-03-02T21:53:30.369929Z"
    },
    "papermill": {
     "duration": 0.071741,
     "end_time": "2023-03-02T21:53:30.383530",
     "exception": false,
     "start_time": "2023-03-02T21:53:30.311789",
     "status": "completed"
    },
    "tags": []
   },
   "outputs": [
    {
     "data": {
      "application/javascript": [
       "parent.postMessage({\"jupyterEvent\": \"custom.exercise_interaction\", \"data\": {\"outcomeType\": 1, \"valueTowardsCompletion\": 0.25, \"interactionType\": 1, \"questionType\": 2, \"questionId\": \"3_CreateModel\", \"learnToolsVersion\": \"0.3.4\", \"failureMessage\": \"\", \"exceptionClass\": \"\", \"trace\": \"\"}}, \"*\")"
      ],
      "text/plain": [
       "<IPython.core.display.Javascript object>"
      ]
     },
     "metadata": {},
     "output_type": "display_data"
    },
    {
     "data": {
      "text/markdown": [
       "<span style=\"color:#33cc33\">Correct</span>"
      ],
      "text/plain": [
       "Correct"
      ]
     },
     "metadata": {},
     "output_type": "display_data"
    }
   ],
   "source": [
    "from sklearn.tree import DecisionTreeRegressor\n",
    "#specify the model. \n",
    "#For model reproducibility, set a numeric value for random_state when specifying the model\n",
    "iowa_model = DecisionTreeRegressor(random_state=1)\n",
    "\n",
    "# Fit the model\n",
    "iowa_model.fit(X, y)\n",
    "\n",
    "# Check your answer\n",
    "step_3.check()"
   ]
  },
  {
   "cell_type": "code",
   "execution_count": 9,
   "id": "f6470316",
   "metadata": {
    "execution": {
     "iopub.execute_input": "2023-03-02T21:53:30.426600Z",
     "iopub.status.busy": "2023-03-02T21:53:30.416233Z",
     "iopub.status.idle": "2023-03-02T21:53:30.437302Z",
     "shell.execute_reply": "2023-03-02T21:53:30.435047Z"
    },
    "papermill": {
     "duration": 0.041933,
     "end_time": "2023-03-02T21:53:30.440124",
     "exception": false,
     "start_time": "2023-03-02T21:53:30.398191",
     "status": "completed"
    },
    "tags": []
   },
   "outputs": [],
   "source": [
    "# step_3.hint()\n",
    "#step_3.solution()"
   ]
  },
  {
   "cell_type": "markdown",
   "id": "fb5e0b78",
   "metadata": {
    "papermill": {
     "duration": 0.016927,
     "end_time": "2023-03-02T21:53:30.475120",
     "exception": false,
     "start_time": "2023-03-02T21:53:30.458193",
     "status": "completed"
    },
    "tags": []
   },
   "source": [
    "## Step 4: Make Predictions\n",
    "Make predictions with the model's `predict` command using `X` as the data. Save the results to a variable called `predictions`."
   ]
  },
  {
   "cell_type": "code",
   "execution_count": 10,
   "id": "ec3665e3",
   "metadata": {
    "execution": {
     "iopub.execute_input": "2023-03-02T21:53:30.516590Z",
     "iopub.status.busy": "2023-03-02T21:53:30.515996Z",
     "iopub.status.idle": "2023-03-02T21:53:30.563778Z",
     "shell.execute_reply": "2023-03-02T21:53:30.559212Z"
    },
    "papermill": {
     "duration": 0.065085,
     "end_time": "2023-03-02T21:53:30.566784",
     "exception": false,
     "start_time": "2023-03-02T21:53:30.501699",
     "status": "completed"
    },
    "tags": []
   },
   "outputs": [
    {
     "name": "stdout",
     "output_type": "stream",
     "text": [
      "[208500. 181500. 223500. ... 266500. 142125. 147500.]\n"
     ]
    },
    {
     "data": {
      "application/javascript": [
       "parent.postMessage({\"jupyterEvent\": \"custom.exercise_interaction\", \"data\": {\"outcomeType\": 1, \"valueTowardsCompletion\": 0.25, \"interactionType\": 1, \"questionType\": 2, \"questionId\": \"4_MakePredictions\", \"learnToolsVersion\": \"0.3.4\", \"failureMessage\": \"\", \"exceptionClass\": \"\", \"trace\": \"\"}}, \"*\")"
      ],
      "text/plain": [
       "<IPython.core.display.Javascript object>"
      ]
     },
     "metadata": {},
     "output_type": "display_data"
    },
    {
     "data": {
      "text/markdown": [
       "<span style=\"color:#33cc33\">Correct</span>"
      ],
      "text/plain": [
       "Correct"
      ]
     },
     "metadata": {},
     "output_type": "display_data"
    }
   ],
   "source": [
    "predictions = iowa_model.predict(X)\n",
    "print(predictions)\n",
    "\n",
    "# Check your answer\n",
    "step_4.check()"
   ]
  },
  {
   "cell_type": "code",
   "execution_count": 11,
   "id": "8c1acd2a",
   "metadata": {
    "collapsed": true,
    "execution": {
     "iopub.execute_input": "2023-03-02T21:53:30.604327Z",
     "iopub.status.busy": "2023-03-02T21:53:30.603557Z",
     "iopub.status.idle": "2023-03-02T21:53:30.629413Z",
     "shell.execute_reply": "2023-03-02T21:53:30.614944Z"
    },
    "jupyter": {
     "outputs_hidden": true
    },
    "papermill": {
     "duration": 0.051668,
     "end_time": "2023-03-02T21:53:30.634243",
     "exception": false,
     "start_time": "2023-03-02T21:53:30.582575",
     "status": "completed"
    },
    "tags": []
   },
   "outputs": [],
   "source": [
    "# step_4.hint()\n",
    "# step_4.solution()"
   ]
  },
  {
   "cell_type": "markdown",
   "id": "e4bd87d5",
   "metadata": {
    "papermill": {
     "duration": 0.016711,
     "end_time": "2023-03-02T21:53:30.670931",
     "exception": false,
     "start_time": "2023-03-02T21:53:30.654220",
     "status": "completed"
    },
    "tags": []
   },
   "source": [
    "## Think About Your Results\n",
    "\n",
    "Use the `head` method to compare the top few predictions to the actual home values (in `y`) for those same homes. Anything surprising?\n"
   ]
  },
  {
   "cell_type": "code",
   "execution_count": 12,
   "id": "871bb609",
   "metadata": {
    "execution": {
     "iopub.execute_input": "2023-03-02T21:53:30.723537Z",
     "iopub.status.busy": "2023-03-02T21:53:30.721850Z",
     "iopub.status.idle": "2023-03-02T21:53:30.734551Z",
     "shell.execute_reply": "2023-03-02T21:53:30.733431Z"
    },
    "papermill": {
     "duration": 0.038527,
     "end_time": "2023-03-02T21:53:30.738660",
     "exception": false,
     "start_time": "2023-03-02T21:53:30.700133",
     "status": "completed"
    },
    "tags": []
   },
   "outputs": [
    {
     "name": "stdout",
     "output_type": "stream",
     "text": [
      "Predictions: [208500. 181500. 223500. 140000. 250000.]\n",
      "Target: [208500 181500 223500 140000 250000]\n",
      "Conclusão: O modelo está prevendo exatamente os mesmos valores do Target(alvo) pois foi utilizada a mesma base de dados de treino, e não uma com novos dados que é o indicado!\n"
     ]
    }
   ],
   "source": [
    "# You can write code in this cell\n",
    "print(\"Predictions:\",predictions[:5])\n",
    "print(\"Target:\",y[:5].values)\n",
    "print('Conclusão: O modelo está prevendo exatamente os mesmos valores do Target(alvo) pois foi utilizada a mesma base de dados de treino, e não uma com novos dados que é o indicado!')"
   ]
  },
  {
   "cell_type": "markdown",
   "id": "34df9b63",
   "metadata": {
    "papermill": {
     "duration": 0.015768,
     "end_time": "2023-03-02T21:53:30.761153",
     "exception": false,
     "start_time": "2023-03-02T21:53:30.745385",
     "status": "completed"
    },
    "tags": []
   },
   "source": [
    "It's natural to ask how accurate the model's predictions will be and how you can improve that. That will be you're next step.\n",
    "\n",
    "# Keep Going\n",
    "\n",
    "You are ready for **[Model Validation](https://www.kaggle.com/dansbecker/model-validation).**\n"
   ]
  },
  {
   "cell_type": "markdown",
   "id": "32ffe904",
   "metadata": {
    "papermill": {
     "duration": 0.023404,
     "end_time": "2023-03-02T21:53:30.813401",
     "exception": false,
     "start_time": "2023-03-02T21:53:30.789997",
     "status": "completed"
    },
    "tags": []
   },
   "source": [
    "---\n",
    "\n",
    "\n",
    "\n",
    "\n",
    "*Have questions or comments? Visit the [course discussion forum](https://www.kaggle.com/learn/intro-to-machine-learning/discussion) to chat with other learners.*"
   ]
  }
 ],
 "metadata": {
  "kernelspec": {
   "display_name": "Python 3",
   "language": "python",
   "name": "python3"
  },
  "language_info": {
   "codemirror_mode": {
    "name": "ipython",
    "version": 3
   },
   "file_extension": ".py",
   "mimetype": "text/x-python",
   "name": "python",
   "nbconvert_exporter": "python",
   "pygments_lexer": "ipython3",
   "version": "3.7.12"
  },
  "papermill": {
   "default_parameters": {},
   "duration": 39.071555,
   "end_time": "2023-03-02T21:53:33.459620",
   "environment_variables": {},
   "exception": null,
   "input_path": "__notebook__.ipynb",
   "output_path": "__notebook__.ipynb",
   "parameters": {},
   "start_time": "2023-03-02T21:52:54.388065",
   "version": "2.4.0"
  }
 },
 "nbformat": 4,
 "nbformat_minor": 5
}
