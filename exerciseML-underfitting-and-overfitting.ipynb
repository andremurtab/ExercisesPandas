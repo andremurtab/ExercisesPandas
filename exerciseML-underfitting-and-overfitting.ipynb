{
 "cells": [
  {
   "cell_type": "markdown",
   "id": "66fb05c8",
   "metadata": {
    "papermill": {
     "duration": 0.004958,
     "end_time": "2023-03-03T13:44:26.889885",
     "exception": false,
     "start_time": "2023-03-03T13:44:26.884927",
     "status": "completed"
    },
    "tags": []
   },
   "source": [
    "**This notebook is an exercise in the [Introduction to Machine Learning](https://www.kaggle.com/learn/intro-to-machine-learning) course.  You can reference the tutorial at [this link](https://www.kaggle.com/dansbecker/underfitting-and-overfitting).**\n",
    "\n",
    "---\n"
   ]
  },
  {
   "cell_type": "markdown",
   "id": "1eaea415",
   "metadata": {
    "papermill": {
     "duration": 0.003544,
     "end_time": "2023-03-03T13:44:26.897467",
     "exception": false,
     "start_time": "2023-03-03T13:44:26.893923",
     "status": "completed"
    },
    "tags": []
   },
   "source": [
    "## Recap\n",
    "You've built your first model, and now it's time to optimize the size of the tree to make better predictions. Run this cell to set up your coding environment where the previous step left off."
   ]
  },
  {
   "cell_type": "code",
   "execution_count": 1,
   "id": "5b5243c2",
   "metadata": {
    "execution": {
     "iopub.execute_input": "2023-03-03T13:44:26.907427Z",
     "iopub.status.busy": "2023-03-03T13:44:26.906836Z",
     "iopub.status.idle": "2023-03-03T13:44:28.496892Z",
     "shell.execute_reply": "2023-03-03T13:44:28.495170Z"
    },
    "papermill": {
     "duration": 1.598889,
     "end_time": "2023-03-03T13:44:28.500223",
     "exception": false,
     "start_time": "2023-03-03T13:44:26.901334",
     "status": "completed"
    },
    "tags": []
   },
   "outputs": [
    {
     "name": "stdout",
     "output_type": "stream",
     "text": [
      "Validation MAE: 29,653\n",
      "\n",
      "Setup complete\n"
     ]
    }
   ],
   "source": [
    "# Code you have previously used to load data\n",
    "import pandas as pd\n",
    "from sklearn.metrics import mean_absolute_error\n",
    "from sklearn.model_selection import train_test_split\n",
    "from sklearn.tree import DecisionTreeRegressor\n",
    "import numpy as np\n",
    "\n",
    "# Path of the file to read\n",
    "iowa_file_path = '../input/home-data-for-ml-course/train.csv'\n",
    "\n",
    "home_data = pd.read_csv(iowa_file_path)\n",
    "# Create target object and call it y\n",
    "y = home_data.SalePrice\n",
    "# Create X\n",
    "features = ['LotArea', 'YearBuilt', '1stFlrSF', '2ndFlrSF', 'FullBath', 'BedroomAbvGr', 'TotRmsAbvGrd']\n",
    "X = home_data[features]\n",
    "\n",
    "# Split into validation and training data\n",
    "train_X, val_X, train_y, val_y = train_test_split(X, y, random_state=1)\n",
    "\n",
    "# Specify Model\n",
    "iowa_model = DecisionTreeRegressor(random_state=1)\n",
    "# Fit Model\n",
    "iowa_model.fit(train_X, train_y)\n",
    "\n",
    "# Make validation predictions and calculate mean absolute error\n",
    "val_predictions = iowa_model.predict(val_X)\n",
    "val_mae = mean_absolute_error(val_predictions, val_y)\n",
    "print(\"Validation MAE: {:,.0f}\".format(val_mae))\n",
    "\n",
    "# Set up code checking\n",
    "from learntools.core import binder\n",
    "binder.bind(globals())\n",
    "from learntools.machine_learning.ex5 import *\n",
    "print(\"\\nSetup complete\")"
   ]
  },
  {
   "cell_type": "markdown",
   "id": "19a845f1",
   "metadata": {
    "papermill": {
     "duration": 0.003918,
     "end_time": "2023-03-03T13:44:28.508438",
     "exception": false,
     "start_time": "2023-03-03T13:44:28.504520",
     "status": "completed"
    },
    "tags": []
   },
   "source": [
    "# Exercises\n",
    "You could write the function `get_mae` yourself. For now, we'll supply it. This is the same function you read about in the previous lesson. Just run the cell below."
   ]
  },
  {
   "cell_type": "code",
   "execution_count": 2,
   "id": "0e3b6efc",
   "metadata": {
    "execution": {
     "iopub.execute_input": "2023-03-03T13:44:28.518563Z",
     "iopub.status.busy": "2023-03-03T13:44:28.518012Z",
     "iopub.status.idle": "2023-03-03T13:44:28.524841Z",
     "shell.execute_reply": "2023-03-03T13:44:28.523364Z"
    },
    "papermill": {
     "duration": 0.015308,
     "end_time": "2023-03-03T13:44:28.527505",
     "exception": false,
     "start_time": "2023-03-03T13:44:28.512197",
     "status": "completed"
    },
    "tags": []
   },
   "outputs": [],
   "source": [
    "def get_mae(max_leaf_nodes, train_X, val_X, train_y, val_y):\n",
    "    model = DecisionTreeRegressor(max_leaf_nodes=max_leaf_nodes, random_state=0)\n",
    "    model.fit(train_X, train_y)\n",
    "    preds_val = model.predict(val_X)\n",
    "    mae = mean_absolute_error(val_y, preds_val)\n",
    "    return(mae)"
   ]
  },
  {
   "cell_type": "markdown",
   "id": "c16cd155",
   "metadata": {
    "papermill": {
     "duration": 0.003743,
     "end_time": "2023-03-03T13:44:28.535684",
     "exception": false,
     "start_time": "2023-03-03T13:44:28.531941",
     "status": "completed"
    },
    "tags": []
   },
   "source": [
    "## Step 1: Compare Different Tree Sizes\n",
    "Write a loop that tries the following values for *max_leaf_nodes* from a set of possible values.\n",
    "\n",
    "Call the *get_mae* function on each value of max_leaf_nodes. Store the output in some way that allows you to select the value of `max_leaf_nodes` that gives the most accurate model on your data."
   ]
  },
  {
   "cell_type": "code",
   "execution_count": 3,
   "id": "f8d274fe",
   "metadata": {
    "execution": {
     "iopub.execute_input": "2023-03-03T13:44:28.546088Z",
     "iopub.status.busy": "2023-03-03T13:44:28.545198Z",
     "iopub.status.idle": "2023-03-03T13:44:28.602782Z",
     "shell.execute_reply": "2023-03-03T13:44:28.601202Z"
    },
    "papermill": {
     "duration": 0.066245,
     "end_time": "2023-03-03T13:44:28.605762",
     "exception": false,
     "start_time": "2023-03-03T13:44:28.539517",
     "status": "completed"
    },
    "tags": []
   },
   "outputs": [
    {
     "name": "stdout",
     "output_type": "stream",
     "text": [
      "[35044.51299744237, 29016.41319191076, 27405.930473214907, 27282.50803885739, 27893.822225701646, 29454.18598068598]\n"
     ]
    },
    {
     "data": {
      "application/javascript": [
       "parent.postMessage({\"jupyterEvent\": \"custom.exercise_interaction\", \"data\": {\"outcomeType\": 1, \"valueTowardsCompletion\": 0.5, \"interactionType\": 1, \"questionType\": 1, \"questionId\": \"1_BestTreeSize\", \"learnToolsVersion\": \"0.3.4\", \"failureMessage\": \"\", \"exceptionClass\": \"\", \"trace\": \"\"}}, \"*\")"
      ],
      "text/plain": [
       "<IPython.core.display.Javascript object>"
      ]
     },
     "metadata": {},
     "output_type": "display_data"
    },
    {
     "data": {
      "text/markdown": [
       "<span style=\"color:#33cc33\">Correct</span>"
      ],
      "text/plain": [
       "Correct"
      ]
     },
     "metadata": {},
     "output_type": "display_data"
    }
   ],
   "source": [
    "candidate_max_leaf_nodes = [5, 25, 50, 100, 250, 500]\n",
    "results_mae = []\n",
    "\n",
    "# Write loop to find the ideal tree size from candidate_max_leaf_nodes\n",
    "for max_leaf_nodes in candidate_max_leaf_nodes:\n",
    "    results_mae.append(get_mae(max_leaf_nodes, train_X, val_X, train_y, val_y))\n",
    "    \n",
    "# Store the best value of max_leaf_nodes (it will be either 5, 25, 50, 100, 250 or 500)\n",
    "print(results_mae)\n",
    "indexfrombestmae = results_mae.index(min(results_mae))\n",
    "\n",
    "best_tree_size = candidate_max_leaf_nodes.pop(indexfrombestmae)\n",
    "\n",
    "# Check your answer\n",
    "step_1.check()"
   ]
  },
  {
   "cell_type": "code",
   "execution_count": 4,
   "id": "49838ce2",
   "metadata": {
    "execution": {
     "iopub.execute_input": "2023-03-03T13:44:28.617076Z",
     "iopub.status.busy": "2023-03-03T13:44:28.616076Z",
     "iopub.status.idle": "2023-03-03T13:44:28.622043Z",
     "shell.execute_reply": "2023-03-03T13:44:28.620570Z"
    },
    "papermill": {
     "duration": 0.014722,
     "end_time": "2023-03-03T13:44:28.624775",
     "exception": false,
     "start_time": "2023-03-03T13:44:28.610053",
     "status": "completed"
    },
    "tags": []
   },
   "outputs": [],
   "source": [
    "# The lines below will show you a hint or the solution.\n",
    "# step_1.hint() \n",
    "# step_1.solution()"
   ]
  },
  {
   "cell_type": "markdown",
   "id": "d332b455",
   "metadata": {
    "papermill": {
     "duration": 0.003841,
     "end_time": "2023-03-03T13:44:28.633002",
     "exception": false,
     "start_time": "2023-03-03T13:44:28.629161",
     "status": "completed"
    },
    "tags": []
   },
   "source": [
    "## Step 2: Fit Model Using All Data\n",
    "You know the best tree size. If you were going to deploy this model in practice, you would make it even more accurate by using all of the data and keeping that tree size.  That is, you don't need to hold out the validation data now that you've made all your modeling decisions."
   ]
  },
  {
   "cell_type": "code",
   "execution_count": 5,
   "id": "40a947bc",
   "metadata": {
    "execution": {
     "iopub.execute_input": "2023-03-03T13:44:28.643527Z",
     "iopub.status.busy": "2023-03-03T13:44:28.642963Z",
     "iopub.status.idle": "2023-03-03T13:44:28.663192Z",
     "shell.execute_reply": "2023-03-03T13:44:28.662085Z"
    },
    "papermill": {
     "duration": 0.028669,
     "end_time": "2023-03-03T13:44:28.665838",
     "exception": false,
     "start_time": "2023-03-03T13:44:28.637169",
     "status": "completed"
    },
    "tags": []
   },
   "outputs": [
    {
     "data": {
      "application/javascript": [
       "parent.postMessage({\"jupyterEvent\": \"custom.exercise_interaction\", \"data\": {\"outcomeType\": 1, \"valueTowardsCompletion\": 0.5, \"interactionType\": 1, \"questionType\": 2, \"questionId\": \"2_FitModelWithAllData\", \"learnToolsVersion\": \"0.3.4\", \"failureMessage\": \"\", \"exceptionClass\": \"\", \"trace\": \"\"}}, \"*\")"
      ],
      "text/plain": [
       "<IPython.core.display.Javascript object>"
      ]
     },
     "metadata": {},
     "output_type": "display_data"
    },
    {
     "data": {
      "text/markdown": [
       "<span style=\"color:#33cc33\">Correct</span>"
      ],
      "text/plain": [
       "Correct"
      ]
     },
     "metadata": {},
     "output_type": "display_data"
    }
   ],
   "source": [
    "# Fill in argument to make optimal size and uncomment\n",
    "final_model = DecisionTreeRegressor(max_leaf_nodes = best_tree_size, random_state=1)\n",
    "\n",
    "# fit the final model and uncomment the next two lines\n",
    "final_model.fit(X, y)\n",
    "\n",
    "# Check your answer\n",
    "step_2.check()"
   ]
  },
  {
   "cell_type": "code",
   "execution_count": 6,
   "id": "1978eafe",
   "metadata": {
    "execution": {
     "iopub.execute_input": "2023-03-03T13:44:28.677426Z",
     "iopub.status.busy": "2023-03-03T13:44:28.676936Z",
     "iopub.status.idle": "2023-03-03T13:44:28.681362Z",
     "shell.execute_reply": "2023-03-03T13:44:28.680311Z"
    },
    "papermill": {
     "duration": 0.013257,
     "end_time": "2023-03-03T13:44:28.683678",
     "exception": false,
     "start_time": "2023-03-03T13:44:28.670421",
     "status": "completed"
    },
    "tags": []
   },
   "outputs": [],
   "source": [
    "# step_2.hint()\n",
    "# step_2.solution()"
   ]
  },
  {
   "cell_type": "markdown",
   "id": "e54105ab",
   "metadata": {
    "papermill": {
     "duration": 0.004188,
     "end_time": "2023-03-03T13:44:28.692465",
     "exception": false,
     "start_time": "2023-03-03T13:44:28.688277",
     "status": "completed"
    },
    "tags": []
   },
   "source": [
    "You've tuned this model and improved your results. But we are still using Decision Tree models, which are not very sophisticated by modern machine learning standards. In the next step you will learn to use Random Forests to improve your models even more.\n",
    "\n",
    "# Keep Going\n",
    "\n",
    "You are ready for **[Random Forests](https://www.kaggle.com/dansbecker/random-forests).**\n"
   ]
  },
  {
   "cell_type": "markdown",
   "id": "6e79a935",
   "metadata": {
    "papermill": {
     "duration": 0.003994,
     "end_time": "2023-03-03T13:44:28.700821",
     "exception": false,
     "start_time": "2023-03-03T13:44:28.696827",
     "status": "completed"
    },
    "tags": []
   },
   "source": [
    "---\n",
    "\n",
    "\n",
    "\n",
    "\n",
    "*Have questions or comments? Visit the [course discussion forum](https://www.kaggle.com/learn/intro-to-machine-learning/discussion) to chat with other learners.*"
   ]
  }
 ],
 "metadata": {
  "kernelspec": {
   "display_name": "Python 3",
   "language": "python",
   "name": "python3"
  },
  "language_info": {
   "codemirror_mode": {
    "name": "ipython",
    "version": 3
   },
   "file_extension": ".py",
   "mimetype": "text/x-python",
   "name": "python",
   "nbconvert_exporter": "python",
   "pygments_lexer": "ipython3",
   "version": "3.7.12"
  },
  "papermill": {
   "default_parameters": {},
   "duration": 14.575538,
   "end_time": "2023-03-03T13:44:29.731366",
   "environment_variables": {},
   "exception": null,
   "input_path": "__notebook__.ipynb",
   "output_path": "__notebook__.ipynb",
   "parameters": {},
   "start_time": "2023-03-03T13:44:15.155828",
   "version": "2.4.0"
  }
 },
 "nbformat": 4,
 "nbformat_minor": 5
}
