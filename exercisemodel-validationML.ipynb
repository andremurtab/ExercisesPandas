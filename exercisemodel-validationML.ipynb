{
 "cells": [
  {
   "cell_type": "markdown",
   "id": "429d2509",
   "metadata": {
    "papermill": {
     "duration": 0.005963,
     "end_time": "2023-03-02T23:21:58.931813",
     "exception": false,
     "start_time": "2023-03-02T23:21:58.925850",
     "status": "completed"
    },
    "tags": []
   },
   "source": [
    "**This notebook is an exercise in the [Introduction to Machine Learning](https://www.kaggle.com/learn/intro-to-machine-learning) course.  You can reference the tutorial at [this link](https://www.kaggle.com/dansbecker/model-validation).**\n",
    "\n",
    "---\n"
   ]
  },
  {
   "cell_type": "markdown",
   "id": "d5880e86",
   "metadata": {
    "papermill": {
     "duration": 0.004265,
     "end_time": "2023-03-02T23:21:58.940854",
     "exception": false,
     "start_time": "2023-03-02T23:21:58.936589",
     "status": "completed"
    },
    "tags": []
   },
   "source": [
    "## Recap\n",
    "You've built a model. In this exercise you will test how good your model is.\n",
    "\n",
    "Run the cell below to set up your coding environment where the previous exercise left off."
   ]
  },
  {
   "cell_type": "code",
   "execution_count": 1,
   "id": "ec5e2d6a",
   "metadata": {
    "execution": {
     "iopub.execute_input": "2023-03-02T23:21:58.952531Z",
     "iopub.status.busy": "2023-03-02T23:21:58.951965Z",
     "iopub.status.idle": "2023-03-02T23:22:00.573379Z",
     "shell.execute_reply": "2023-03-02T23:22:00.572210Z"
    },
    "papermill": {
     "duration": 1.632442,
     "end_time": "2023-03-02T23:22:00.577805",
     "exception": false,
     "start_time": "2023-03-02T23:21:58.945363",
     "status": "completed"
    },
    "tags": []
   },
   "outputs": [
    {
     "name": "stdout",
     "output_type": "stream",
     "text": [
      "First in-sample predictions: [208500. 181500. 223500. 140000. 250000.]\n",
      "Actual target values for those homes: [208500, 181500, 223500, 140000, 250000]\n",
      "Setup Complete\n"
     ]
    }
   ],
   "source": [
    "# Code you have previously used to load data\n",
    "import pandas as pd\n",
    "from sklearn.tree import DecisionTreeRegressor\n",
    "\n",
    "# Path of the file to read\n",
    "iowa_file_path = '../input/home-data-for-ml-course/train.csv'\n",
    "\n",
    "home_data = pd.read_csv(iowa_file_path)\n",
    "#Definindo o target\n",
    "y = home_data.SalePrice\n",
    "feature_columns = ['LotArea', 'YearBuilt', '1stFlrSF', '2ndFlrSF', 'FullBath', 'BedroomAbvGr', 'TotRmsAbvGrd']\n",
    "X = home_data[feature_columns]\n",
    "\n",
    "# Specify Model\n",
    "iowa_model = DecisionTreeRegressor()\n",
    "# Fit Model\n",
    "iowa_model.fit(X, y)\n",
    "\n",
    "print(\"First in-sample predictions:\", iowa_model.predict(X.head()))\n",
    "print(\"Actual target values for those homes:\", y.head().tolist())\n",
    "\n",
    "# Set up code checking\n",
    "from learntools.core import binder\n",
    "binder.bind(globals())\n",
    "from learntools.machine_learning.ex4 import *\n",
    "print(\"Setup Complete\")"
   ]
  },
  {
   "cell_type": "markdown",
   "id": "8bbbf86e",
   "metadata": {
    "papermill": {
     "duration": 0.004579,
     "end_time": "2023-03-02T23:22:00.587814",
     "exception": false,
     "start_time": "2023-03-02T23:22:00.583235",
     "status": "completed"
    },
    "tags": []
   },
   "source": [
    "# Exercises\n",
    "\n",
    "## Step 1: Split Your Data\n",
    "Use the `train_test_split` function to split up your data.\n",
    "\n",
    "Give it the argument `random_state=1` so the `check` functions know what to expect when verifying your code.\n",
    "\n",
    "Recall, your features are loaded in the DataFrame **X** and your target is loaded in **y**.\n"
   ]
  },
  {
   "cell_type": "code",
   "execution_count": 2,
   "id": "5a4e6041",
   "metadata": {
    "execution": {
     "iopub.execute_input": "2023-03-02T23:22:00.600208Z",
     "iopub.status.busy": "2023-03-02T23:22:00.599725Z",
     "iopub.status.idle": "2023-03-02T23:22:00.619694Z",
     "shell.execute_reply": "2023-03-02T23:22:00.617977Z"
    },
    "papermill": {
     "duration": 0.029913,
     "end_time": "2023-03-02T23:22:00.622708",
     "exception": false,
     "start_time": "2023-03-02T23:22:00.592795",
     "status": "completed"
    },
    "tags": []
   },
   "outputs": [
    {
     "data": {
      "application/javascript": [
       "parent.postMessage({\"jupyterEvent\": \"custom.exercise_interaction\", \"data\": {\"outcomeType\": 1, \"valueTowardsCompletion\": 0.25, \"interactionType\": 1, \"questionType\": 2, \"questionId\": \"1_SplitData\", \"learnToolsVersion\": \"0.3.4\", \"failureMessage\": \"\", \"exceptionClass\": \"\", \"trace\": \"\"}}, \"*\")"
      ],
      "text/plain": [
       "<IPython.core.display.Javascript object>"
      ]
     },
     "metadata": {},
     "output_type": "display_data"
    },
    {
     "data": {
      "text/markdown": [
       "<span style=\"color:#33cc33\">Correct</span>"
      ],
      "text/plain": [
       "Correct"
      ]
     },
     "metadata": {},
     "output_type": "display_data"
    }
   ],
   "source": [
    "from sklearn.model_selection import train_test_split\n",
    "\n",
    "# fill in and uncomment\n",
    "train_X, val_X, train_y, val_y = train_test_split(X, y, random_state=1)\n",
    "\n",
    "# Check your answer\n",
    "step_1.check()"
   ]
  },
  {
   "cell_type": "code",
   "execution_count": 3,
   "id": "401c506e",
   "metadata": {
    "execution": {
     "iopub.execute_input": "2023-03-02T23:22:00.635612Z",
     "iopub.status.busy": "2023-03-02T23:22:00.635068Z",
     "iopub.status.idle": "2023-03-02T23:22:00.640059Z",
     "shell.execute_reply": "2023-03-02T23:22:00.638728Z"
    },
    "papermill": {
     "duration": 0.015473,
     "end_time": "2023-03-02T23:22:00.643293",
     "exception": false,
     "start_time": "2023-03-02T23:22:00.627820",
     "status": "completed"
    },
    "tags": []
   },
   "outputs": [],
   "source": [
    "# The lines below will show you a hint or the solution.\n",
    "# step_1.hint() \n",
    "# step_1.solution()\n"
   ]
  },
  {
   "cell_type": "markdown",
   "id": "1c132fa0",
   "metadata": {
    "papermill": {
     "duration": 0.00484,
     "end_time": "2023-03-02T23:22:00.653981",
     "exception": false,
     "start_time": "2023-03-02T23:22:00.649141",
     "status": "completed"
    },
    "tags": []
   },
   "source": [
    "## Step 2: Specify and Fit the Model\n",
    "\n",
    "Create a `DecisionTreeRegressor` model and fit it to the relevant data.\n",
    "Set `random_state` to 1 again when creating the model."
   ]
  },
  {
   "cell_type": "code",
   "execution_count": 4,
   "id": "d26611fc",
   "metadata": {
    "execution": {
     "iopub.execute_input": "2023-03-02T23:22:00.666482Z",
     "iopub.status.busy": "2023-03-02T23:22:00.665984Z",
     "iopub.status.idle": "2023-03-02T23:22:00.700909Z",
     "shell.execute_reply": "2023-03-02T23:22:00.699476Z"
    },
    "papermill": {
     "duration": 0.046581,
     "end_time": "2023-03-02T23:22:00.705630",
     "exception": false,
     "start_time": "2023-03-02T23:22:00.659049",
     "status": "completed"
    },
    "tags": []
   },
   "outputs": [
    {
     "name": "stdout",
     "output_type": "stream",
     "text": [
      "[186500. 184000. 130000.  92000. 164500. 220000. 335000. 144152. 215000.\n",
      " 262000.]\n",
      "[186500. 184000. 130000.  92000. 164500. 220000. 335000. 144152. 215000.\n",
      " 262000.]\n"
     ]
    },
    {
     "data": {
      "application/javascript": [
       "parent.postMessage({\"jupyterEvent\": \"custom.exercise_interaction\", \"data\": {\"outcomeType\": 1, \"valueTowardsCompletion\": 0.25, \"interactionType\": 1, \"questionType\": 2, \"questionId\": \"2_FitModelWithTrain\", \"learnToolsVersion\": \"0.3.4\", \"failureMessage\": \"\", \"exceptionClass\": \"\", \"trace\": \"\"}}, \"*\")"
      ],
      "text/plain": [
       "<IPython.core.display.Javascript object>"
      ]
     },
     "metadata": {},
     "output_type": "display_data"
    },
    {
     "data": {
      "text/markdown": [
       "<span style=\"color:#33cc33\">Correct</span>"
      ],
      "text/plain": [
       "Correct"
      ]
     },
     "metadata": {},
     "output_type": "display_data"
    }
   ],
   "source": [
    "# You imported DecisionTreeRegressor in your last exercise\n",
    "# and that code has been copied to the setup code above. So, no need to\n",
    "# import it again\n",
    "\n",
    "# Specify the model\n",
    "iowa_model = DecisionTreeRegressor(random_state=1)\n",
    "\n",
    "# Fit iowa_model with the training data.\n",
    "iowa_model.fit(train_X, train_y)\n",
    "\n",
    "# Check your answer\n",
    "step_2.check()"
   ]
  },
  {
   "cell_type": "code",
   "execution_count": 5,
   "id": "6e2f2d70",
   "metadata": {
    "execution": {
     "iopub.execute_input": "2023-03-02T23:22:00.719519Z",
     "iopub.status.busy": "2023-03-02T23:22:00.719038Z",
     "iopub.status.idle": "2023-03-02T23:22:00.724817Z",
     "shell.execute_reply": "2023-03-02T23:22:00.723328Z"
    },
    "papermill": {
     "duration": 0.015657,
     "end_time": "2023-03-02T23:22:00.727296",
     "exception": false,
     "start_time": "2023-03-02T23:22:00.711639",
     "status": "completed"
    },
    "tags": []
   },
   "outputs": [],
   "source": [
    "# step_2.hint()\n",
    "# step_2.solution()"
   ]
  },
  {
   "cell_type": "markdown",
   "id": "7df1ca6c",
   "metadata": {
    "papermill": {
     "duration": 0.005272,
     "end_time": "2023-03-02T23:22:00.738462",
     "exception": false,
     "start_time": "2023-03-02T23:22:00.733190",
     "status": "completed"
    },
    "tags": []
   },
   "source": [
    "## Step 3: Make Predictions with Validation data\n"
   ]
  },
  {
   "cell_type": "code",
   "execution_count": 6,
   "id": "cd2419f9",
   "metadata": {
    "execution": {
     "iopub.execute_input": "2023-03-02T23:22:00.751528Z",
     "iopub.status.busy": "2023-03-02T23:22:00.751073Z",
     "iopub.status.idle": "2023-03-02T23:22:00.766450Z",
     "shell.execute_reply": "2023-03-02T23:22:00.765123Z"
    },
    "papermill": {
     "duration": 0.025235,
     "end_time": "2023-03-02T23:22:00.769258",
     "exception": false,
     "start_time": "2023-03-02T23:22:00.744023",
     "status": "completed"
    },
    "tags": []
   },
   "outputs": [
    {
     "data": {
      "application/javascript": [
       "parent.postMessage({\"jupyterEvent\": \"custom.exercise_interaction\", \"data\": {\"outcomeType\": 1, \"valueTowardsCompletion\": 0.25, \"interactionType\": 1, \"questionType\": 2, \"questionId\": \"3_ValPreds\", \"learnToolsVersion\": \"0.3.4\", \"failureMessage\": \"\", \"exceptionClass\": \"\", \"trace\": \"\"}}, \"*\")"
      ],
      "text/plain": [
       "<IPython.core.display.Javascript object>"
      ]
     },
     "metadata": {},
     "output_type": "display_data"
    },
    {
     "data": {
      "text/markdown": [
       "<span style=\"color:#33cc33\">Correct</span>"
      ],
      "text/plain": [
       "Correct"
      ]
     },
     "metadata": {},
     "output_type": "display_data"
    }
   ],
   "source": [
    "# Predict with all validation observations\n",
    "val_predictions = iowa_model.predict(val_X)\n",
    "\n",
    "# Check your answer\n",
    "step_3.check()"
   ]
  },
  {
   "cell_type": "code",
   "execution_count": 7,
   "id": "da456ece",
   "metadata": {
    "execution": {
     "iopub.execute_input": "2023-03-02T23:22:00.783234Z",
     "iopub.status.busy": "2023-03-02T23:22:00.782838Z",
     "iopub.status.idle": "2023-03-02T23:22:00.788554Z",
     "shell.execute_reply": "2023-03-02T23:22:00.787138Z"
    },
    "papermill": {
     "duration": 0.016251,
     "end_time": "2023-03-02T23:22:00.791452",
     "exception": false,
     "start_time": "2023-03-02T23:22:00.775201",
     "status": "completed"
    },
    "tags": []
   },
   "outputs": [],
   "source": [
    "# step_3.hint()\n",
    "# step_3.solution()"
   ]
  },
  {
   "cell_type": "markdown",
   "id": "03c26998",
   "metadata": {
    "papermill": {
     "duration": 0.005574,
     "end_time": "2023-03-02T23:22:00.803128",
     "exception": false,
     "start_time": "2023-03-02T23:22:00.797554",
     "status": "completed"
    },
    "tags": []
   },
   "source": [
    "Inspect your predictions and actual values from validation data."
   ]
  },
  {
   "cell_type": "code",
   "execution_count": 8,
   "id": "3e58b34a",
   "metadata": {
    "execution": {
     "iopub.execute_input": "2023-03-02T23:22:00.816820Z",
     "iopub.status.busy": "2023-03-02T23:22:00.816405Z",
     "iopub.status.idle": "2023-03-02T23:22:00.824786Z",
     "shell.execute_reply": "2023-03-02T23:22:00.823121Z"
    },
    "papermill": {
     "duration": 0.018763,
     "end_time": "2023-03-02T23:22:00.827814",
     "exception": false,
     "start_time": "2023-03-02T23:22:00.809051",
     "status": "completed"
    },
    "tags": []
   },
   "outputs": [
    {
     "name": "stdout",
     "output_type": "stream",
     "text": [
      "Predictions: [186500. 184000. 130000.  92000. 164500.]\n",
      "Validation Data: [231500, 179500, 122000, 84500, 142000]\n"
     ]
    }
   ],
   "source": [
    "# print the top few validation predictions\n",
    "print('Predictions:',val_predictions[:5])\n",
    "# print the top few actual prices from validation data\n",
    "print('Validation Data:', val_y.head().to_list())"
   ]
  },
  {
   "cell_type": "markdown",
   "id": "ca4af95a",
   "metadata": {
    "papermill": {
     "duration": 0.005783,
     "end_time": "2023-03-02T23:22:00.839988",
     "exception": false,
     "start_time": "2023-03-02T23:22:00.834205",
     "status": "completed"
    },
    "tags": []
   },
   "source": [
    "What do you notice that is different from what you saw with in-sample predictions (which are printed after the top code cell in this page).\n",
    "\n",
    "Do you remember why validation predictions differ from in-sample (or training) predictions? This is an important idea from the last lesson.\n",
    "\n",
    "## Step 4: Calculate the Mean Absolute Error in Validation Data\n"
   ]
  },
  {
   "cell_type": "markdown",
   "id": "f2ae7bd4",
   "metadata": {
    "papermill": {
     "duration": 0.005755,
     "end_time": "2023-03-02T23:22:00.851812",
     "exception": false,
     "start_time": "2023-03-02T23:22:00.846057",
     "status": "completed"
    },
    "tags": []
   },
   "source": []
  },
  {
   "cell_type": "code",
   "execution_count": 9,
   "id": "fc579894",
   "metadata": {
    "execution": {
     "iopub.execute_input": "2023-03-02T23:22:00.866301Z",
     "iopub.status.busy": "2023-03-02T23:22:00.865164Z",
     "iopub.status.idle": "2023-03-02T23:22:00.880792Z",
     "shell.execute_reply": "2023-03-02T23:22:00.879625Z"
    },
    "papermill": {
     "duration": 0.025862,
     "end_time": "2023-03-02T23:22:00.883585",
     "exception": false,
     "start_time": "2023-03-02T23:22:00.857723",
     "status": "completed"
    },
    "tags": []
   },
   "outputs": [
    {
     "name": "stdout",
     "output_type": "stream",
     "text": [
      "29652.931506849316\n"
     ]
    },
    {
     "data": {
      "application/javascript": [
       "parent.postMessage({\"jupyterEvent\": \"custom.exercise_interaction\", \"data\": {\"outcomeType\": 1, \"valueTowardsCompletion\": 0.25, \"interactionType\": 1, \"questionType\": 1, \"questionId\": \"4_MAE\", \"learnToolsVersion\": \"0.3.4\", \"failureMessage\": \"\", \"exceptionClass\": \"\", \"trace\": \"\"}}, \"*\")"
      ],
      "text/plain": [
       "<IPython.core.display.Javascript object>"
      ]
     },
     "metadata": {},
     "output_type": "display_data"
    },
    {
     "data": {
      "text/markdown": [
       "<span style=\"color:#33cc33\">Correct</span>"
      ],
      "text/plain": [
       "Correct"
      ]
     },
     "metadata": {},
     "output_type": "display_data"
    }
   ],
   "source": [
    "from sklearn.metrics import mean_absolute_error\n",
    "\n",
    "val_mae = mean_absolute_error(val_y, val_predictions)\n",
    "\n",
    "# uncomment following line to see the validation_mae\n",
    "print(val_mae)\n",
    "\n",
    "# Check your answer\n",
    "step_4.check()"
   ]
  },
  {
   "cell_type": "code",
   "execution_count": 10,
   "id": "96ea2821",
   "metadata": {
    "execution": {
     "iopub.execute_input": "2023-03-02T23:22:00.899218Z",
     "iopub.status.busy": "2023-03-02T23:22:00.898455Z",
     "iopub.status.idle": "2023-03-02T23:22:00.904351Z",
     "shell.execute_reply": "2023-03-02T23:22:00.902992Z"
    },
    "papermill": {
     "duration": 0.016659,
     "end_time": "2023-03-02T23:22:00.906918",
     "exception": false,
     "start_time": "2023-03-02T23:22:00.890259",
     "status": "completed"
    },
    "tags": []
   },
   "outputs": [],
   "source": [
    "# step_4.hint()\n",
    "# step_4.solution()"
   ]
  },
  {
   "cell_type": "markdown",
   "id": "d26f13b2",
   "metadata": {
    "papermill": {
     "duration": 0.005915,
     "end_time": "2023-03-02T23:22:00.919225",
     "exception": false,
     "start_time": "2023-03-02T23:22:00.913310",
     "status": "completed"
    },
    "tags": []
   },
   "source": [
    "Is that MAE good?  There isn't a general rule for what values are good that applies across applications. But you'll see how to use (and improve) this number in the next step.\n",
    "\n",
    "# Keep Going\n",
    "\n",
    "You are ready for **[Underfitting and Overfitting](https://www.kaggle.com/dansbecker/underfitting-and-overfitting).**\n"
   ]
  },
  {
   "cell_type": "markdown",
   "id": "8fa46d10",
   "metadata": {
    "papermill": {
     "duration": 0.005957,
     "end_time": "2023-03-02T23:22:00.931506",
     "exception": false,
     "start_time": "2023-03-02T23:22:00.925549",
     "status": "completed"
    },
    "tags": []
   },
   "source": [
    "---\n",
    "\n",
    "\n",
    "\n",
    "\n",
    "*Have questions or comments? Visit the [course discussion forum](https://www.kaggle.com/learn/intro-to-machine-learning/discussion) to chat with other learners.*"
   ]
  }
 ],
 "metadata": {
  "kernelspec": {
   "display_name": "Python 3",
   "language": "python",
   "name": "python3"
  },
  "language_info": {
   "codemirror_mode": {
    "name": "ipython",
    "version": 3
   },
   "file_extension": ".py",
   "mimetype": "text/x-python",
   "name": "python",
   "nbconvert_exporter": "python",
   "pygments_lexer": "ipython3",
   "version": "3.7.12"
  },
  "papermill": {
   "default_parameters": {},
   "duration": 13.860435,
   "end_time": "2023-03-02T23:22:01.863067",
   "environment_variables": {},
   "exception": null,
   "input_path": "__notebook__.ipynb",
   "output_path": "__notebook__.ipynb",
   "parameters": {},
   "start_time": "2023-03-02T23:21:48.002632",
   "version": "2.4.0"
  }
 },
 "nbformat": 4,
 "nbformat_minor": 5
}
