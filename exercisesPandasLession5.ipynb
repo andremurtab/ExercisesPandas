{
 "cells": [
  {
   "cell_type": "markdown",
   "id": "81da5c38",
   "metadata": {
    "papermill": {
     "duration": 0.005563,
     "end_time": "2023-03-02T16:28:05.950952",
     "exception": false,
     "start_time": "2023-03-02T16:28:05.945389",
     "status": "completed"
    },
    "tags": []
   },
   "source": [
    "**This notebook is an exercise in the [Pandas](https://www.kaggle.com/learn/pandas) course.  You can reference the tutorial at [this link](https://www.kaggle.com/residentmario/data-types-and-missing-values).**\n",
    "\n",
    "---\n"
   ]
  },
  {
   "cell_type": "markdown",
   "id": "7e41b519",
   "metadata": {
    "papermill": {
     "duration": 0.003722,
     "end_time": "2023-03-02T16:28:05.958608",
     "exception": false,
     "start_time": "2023-03-02T16:28:05.954886",
     "status": "completed"
    },
    "tags": []
   },
   "source": [
    "# Introduction\n",
    "\n",
    "Run the following cell to load your data and some utility functions."
   ]
  },
  {
   "cell_type": "code",
   "execution_count": 1,
   "id": "7141f3d1",
   "metadata": {
    "execution": {
     "iopub.execute_input": "2023-03-02T16:28:05.969118Z",
     "iopub.status.busy": "2023-03-02T16:28:05.968310Z",
     "iopub.status.idle": "2023-03-02T16:28:08.376796Z",
     "shell.execute_reply": "2023-03-02T16:28:08.375697Z"
    },
    "papermill": {
     "duration": 2.416725,
     "end_time": "2023-03-02T16:28:08.379159",
     "exception": false,
     "start_time": "2023-03-02T16:28:05.962434",
     "status": "completed"
    },
    "tags": []
   },
   "outputs": [
    {
     "name": "stdout",
     "output_type": "stream",
     "text": [
      "Setup complete.\n"
     ]
    }
   ],
   "source": [
    "import pandas as pd\n",
    "\n",
    "reviews = pd.read_csv(\"../input/wine-reviews/winemag-data-130k-v2.csv\", index_col=0)\n",
    "\n",
    "from learntools.core import binder; binder.bind(globals())\n",
    "from learntools.pandas.data_types_and_missing_data import *\n",
    "print(\"Setup complete.\")"
   ]
  },
  {
   "cell_type": "markdown",
   "id": "c37befb6",
   "metadata": {
    "papermill": {
     "duration": 0.003381,
     "end_time": "2023-03-02T16:28:08.386410",
     "exception": false,
     "start_time": "2023-03-02T16:28:08.383029",
     "status": "completed"
    },
    "tags": []
   },
   "source": [
    "# Exercises"
   ]
  },
  {
   "cell_type": "markdown",
   "id": "49ee6b1e",
   "metadata": {
    "papermill": {
     "duration": 0.003301,
     "end_time": "2023-03-02T16:28:08.393456",
     "exception": false,
     "start_time": "2023-03-02T16:28:08.390155",
     "status": "completed"
    },
    "tags": []
   },
   "source": [
    "## 1. \n",
    "What is the data type of the `points` column in the dataset?"
   ]
  },
  {
   "cell_type": "code",
   "execution_count": 2,
   "id": "49cfeb97",
   "metadata": {
    "execution": {
     "iopub.execute_input": "2023-03-02T16:28:08.402702Z",
     "iopub.status.busy": "2023-03-02T16:28:08.402013Z",
     "iopub.status.idle": "2023-03-02T16:28:08.413277Z",
     "shell.execute_reply": "2023-03-02T16:28:08.412207Z"
    },
    "papermill": {
     "duration": 0.018434,
     "end_time": "2023-03-02T16:28:08.415437",
     "exception": false,
     "start_time": "2023-03-02T16:28:08.397003",
     "status": "completed"
    },
    "tags": []
   },
   "outputs": [
    {
     "name": "stdout",
     "output_type": "stream",
     "text": [
      "int64\n"
     ]
    },
    {
     "data": {
      "application/javascript": [
       "parent.postMessage({\"jupyterEvent\": \"custom.exercise_interaction\", \"data\": {\"outcomeType\": 1, \"valueTowardsCompletion\": 0.25, \"interactionType\": 1, \"questionType\": 1, \"questionId\": \"1_PointsDtype\", \"learnToolsVersion\": \"0.3.4\", \"failureMessage\": \"\", \"exceptionClass\": \"\", \"trace\": \"\"}}, \"*\")"
      ],
      "text/plain": [
       "<IPython.core.display.Javascript object>"
      ]
     },
     "metadata": {},
     "output_type": "display_data"
    },
    {
     "data": {
      "text/markdown": [
       "<span style=\"color:#33cc33\">Correct</span>"
      ],
      "text/plain": [
       "Correct"
      ]
     },
     "metadata": {},
     "output_type": "display_data"
    }
   ],
   "source": [
    "# Your code here\n",
    "dtype = reviews.points.dtype\n",
    "print (dtype)\n",
    "# Check your answer\n",
    "q1.check()"
   ]
  },
  {
   "cell_type": "code",
   "execution_count": 3,
   "id": "daecbca3",
   "metadata": {
    "execution": {
     "iopub.execute_input": "2023-03-02T16:28:08.425136Z",
     "iopub.status.busy": "2023-03-02T16:28:08.424734Z",
     "iopub.status.idle": "2023-03-02T16:28:08.429288Z",
     "shell.execute_reply": "2023-03-02T16:28:08.428172Z"
    },
    "papermill": {
     "duration": 0.01167,
     "end_time": "2023-03-02T16:28:08.431344",
     "exception": false,
     "start_time": "2023-03-02T16:28:08.419674",
     "status": "completed"
    },
    "tags": []
   },
   "outputs": [],
   "source": [
    "#q1.hint()\n",
    "#q1.solution()"
   ]
  },
  {
   "cell_type": "markdown",
   "id": "3be7d7ba",
   "metadata": {
    "papermill": {
     "duration": 0.003631,
     "end_time": "2023-03-02T16:28:08.438901",
     "exception": false,
     "start_time": "2023-03-02T16:28:08.435270",
     "status": "completed"
    },
    "tags": []
   },
   "source": [
    "## 2. \n",
    "Create a Series from entries in the `points` column, but convert the entries to strings. Hint: strings are `str` in native Python."
   ]
  },
  {
   "cell_type": "code",
   "execution_count": 4,
   "id": "fefb3171",
   "metadata": {
    "execution": {
     "iopub.execute_input": "2023-03-02T16:28:08.448670Z",
     "iopub.status.busy": "2023-03-02T16:28:08.448074Z",
     "iopub.status.idle": "2023-03-02T16:28:08.512035Z",
     "shell.execute_reply": "2023-03-02T16:28:08.511004Z"
    },
    "papermill": {
     "duration": 0.071505,
     "end_time": "2023-03-02T16:28:08.514250",
     "exception": false,
     "start_time": "2023-03-02T16:28:08.442745",
     "status": "completed"
    },
    "tags": []
   },
   "outputs": [
    {
     "data": {
      "application/javascript": [
       "parent.postMessage({\"jupyterEvent\": \"custom.exercise_interaction\", \"data\": {\"outcomeType\": 1, \"valueTowardsCompletion\": 0.25, \"interactionType\": 1, \"questionType\": 1, \"questionId\": \"2_StrPoints\", \"learnToolsVersion\": \"0.3.4\", \"failureMessage\": \"\", \"exceptionClass\": \"\", \"trace\": \"\"}}, \"*\")"
      ],
      "text/plain": [
       "<IPython.core.display.Javascript object>"
      ]
     },
     "metadata": {},
     "output_type": "display_data"
    },
    {
     "data": {
      "text/markdown": [
       "<span style=\"color:#33cc33\">Correct</span>"
      ],
      "text/plain": [
       "Correct"
      ]
     },
     "metadata": {},
     "output_type": "display_data"
    }
   ],
   "source": [
    "point_strings = reviews.points.astype(str)\n",
    "\n",
    "# Check your answer\n",
    "q2.check()"
   ]
  },
  {
   "cell_type": "code",
   "execution_count": 5,
   "id": "0fe86317",
   "metadata": {
    "execution": {
     "iopub.execute_input": "2023-03-02T16:28:08.525592Z",
     "iopub.status.busy": "2023-03-02T16:28:08.524282Z",
     "iopub.status.idle": "2023-03-02T16:28:08.529142Z",
     "shell.execute_reply": "2023-03-02T16:28:08.528085Z"
    },
    "papermill": {
     "duration": 0.012524,
     "end_time": "2023-03-02T16:28:08.531214",
     "exception": false,
     "start_time": "2023-03-02T16:28:08.518690",
     "status": "completed"
    },
    "tags": []
   },
   "outputs": [],
   "source": [
    "#q2.hint()\n",
    "#q2.solution()"
   ]
  },
  {
   "cell_type": "markdown",
   "id": "d71476da",
   "metadata": {
    "papermill": {
     "duration": 0.004049,
     "end_time": "2023-03-02T16:28:08.540068",
     "exception": false,
     "start_time": "2023-03-02T16:28:08.536019",
     "status": "completed"
    },
    "tags": []
   },
   "source": [
    "## 3.\n",
    "Sometimes the price column is null. How many reviews in the dataset are missing a price?"
   ]
  },
  {
   "cell_type": "code",
   "execution_count": 6,
   "id": "64dea648",
   "metadata": {
    "execution": {
     "iopub.execute_input": "2023-03-02T16:28:08.550734Z",
     "iopub.status.busy": "2023-03-02T16:28:08.549568Z",
     "iopub.status.idle": "2023-03-02T16:28:08.559464Z",
     "shell.execute_reply": "2023-03-02T16:28:08.558453Z"
    },
    "papermill": {
     "duration": 0.017342,
     "end_time": "2023-03-02T16:28:08.561612",
     "exception": false,
     "start_time": "2023-03-02T16:28:08.544270",
     "status": "completed"
    },
    "tags": []
   },
   "outputs": [
    {
     "data": {
      "application/javascript": [
       "parent.postMessage({\"jupyterEvent\": \"custom.exercise_interaction\", \"data\": {\"outcomeType\": 1, \"valueTowardsCompletion\": 0.25, \"interactionType\": 1, \"questionType\": 1, \"questionId\": \"3_CountMissingPrices\", \"learnToolsVersion\": \"0.3.4\", \"failureMessage\": \"\", \"exceptionClass\": \"\", \"trace\": \"\"}}, \"*\")"
      ],
      "text/plain": [
       "<IPython.core.display.Javascript object>"
      ]
     },
     "metadata": {},
     "output_type": "display_data"
    },
    {
     "data": {
      "text/markdown": [
       "<span style=\"color:#33cc33\">Correct</span>"
      ],
      "text/plain": [
       "Correct"
      ]
     },
     "metadata": {},
     "output_type": "display_data"
    }
   ],
   "source": [
    "n_missing_prices = reviews.price.isnull().sum()\n",
    "\n",
    "# Check your answer\n",
    "q3.check()"
   ]
  },
  {
   "cell_type": "code",
   "execution_count": 7,
   "id": "5bb23d6b",
   "metadata": {
    "execution": {
     "iopub.execute_input": "2023-03-02T16:28:08.573001Z",
     "iopub.status.busy": "2023-03-02T16:28:08.572609Z",
     "iopub.status.idle": "2023-03-02T16:28:08.580702Z",
     "shell.execute_reply": "2023-03-02T16:28:08.579618Z"
    },
    "papermill": {
     "duration": 0.01608,
     "end_time": "2023-03-02T16:28:08.582605",
     "exception": false,
     "start_time": "2023-03-02T16:28:08.566525",
     "status": "completed"
    },
    "tags": []
   },
   "outputs": [
    {
     "data": {
      "application/javascript": [
       "parent.postMessage({\"jupyterEvent\": \"custom.exercise_interaction\", \"data\": {\"interactionType\": 3, \"questionType\": 1, \"questionId\": \"3_CountMissingPrices\", \"learnToolsVersion\": \"0.3.4\", \"valueTowardsCompletion\": 0.0, \"failureMessage\": \"\", \"exceptionClass\": \"\", \"trace\": \"\", \"outcomeType\": 4}}, \"*\")"
      ],
      "text/plain": [
       "<IPython.core.display.Javascript object>"
      ]
     },
     "metadata": {},
     "output_type": "display_data"
    },
    {
     "data": {
      "text/markdown": [
       "<span style=\"color:#33cc99\">Solution:</span> \n",
       "```python\n",
       "missing_price_reviews = reviews[reviews.price.isnull()]\n",
       "n_missing_prices = len(missing_price_reviews)\n",
       "# Cute alternative solution: if we sum a boolean series, True is treated as 1 and False as 0\n",
       "n_missing_prices = reviews.price.isnull().sum()\n",
       "# or equivalently:\n",
       "n_missing_prices = pd.isnull(reviews.price).sum()\n",
       "\n",
       "```"
      ],
      "text/plain": [
       "Solution: \n",
       "```python\n",
       "missing_price_reviews = reviews[reviews.price.isnull()]\n",
       "n_missing_prices = len(missing_price_reviews)\n",
       "# Cute alternative solution: if we sum a boolean series, True is treated as 1 and False as 0\n",
       "n_missing_prices = reviews.price.isnull().sum()\n",
       "# or equivalently:\n",
       "n_missing_prices = pd.isnull(reviews.price).sum()\n",
       "\n",
       "```"
      ]
     },
     "metadata": {},
     "output_type": "display_data"
    }
   ],
   "source": [
    "#q3.hint()\n",
    "q3.solution()"
   ]
  },
  {
   "cell_type": "markdown",
   "id": "655bfbc7",
   "metadata": {
    "papermill": {
     "duration": 0.004411,
     "end_time": "2023-03-02T16:28:08.591865",
     "exception": false,
     "start_time": "2023-03-02T16:28:08.587454",
     "status": "completed"
    },
    "tags": []
   },
   "source": [
    "## 4.\n",
    "What are the most common wine-producing regions? Create a Series counting the number of times each value occurs in the `region_1` field. This field is often missing data, so replace missing values with `Unknown`. Sort in descending order.  Your output should look something like this:\n",
    "\n",
    "```\n",
    "Unknown                    21247\n",
    "Napa Valley                 4480\n",
    "                           ...  \n",
    "Bardolino Superiore            1\n",
    "Primitivo del Tarantino        1\n",
    "Name: region_1, Length: 1230, dtype: int64\n",
    "```"
   ]
  },
  {
   "cell_type": "code",
   "execution_count": 8,
   "id": "0de75a76",
   "metadata": {
    "execution": {
     "iopub.execute_input": "2023-03-02T16:28:08.603526Z",
     "iopub.status.busy": "2023-03-02T16:28:08.602367Z",
     "iopub.status.idle": "2023-03-02T16:28:08.641396Z",
     "shell.execute_reply": "2023-03-02T16:28:08.640681Z"
    },
    "papermill": {
     "duration": 0.046691,
     "end_time": "2023-03-02T16:28:08.643182",
     "exception": false,
     "start_time": "2023-03-02T16:28:08.596491",
     "status": "completed"
    },
    "tags": []
   },
   "outputs": [
    {
     "data": {
      "application/javascript": [
       "parent.postMessage({\"jupyterEvent\": \"custom.exercise_interaction\", \"data\": {\"outcomeType\": 1, \"valueTowardsCompletion\": 0.25, \"interactionType\": 1, \"questionType\": 2, \"questionId\": \"4_ReviewsPerRegion\", \"learnToolsVersion\": \"0.3.4\", \"failureMessage\": \"\", \"exceptionClass\": \"\", \"trace\": \"\"}}, \"*\")"
      ],
      "text/plain": [
       "<IPython.core.display.Javascript object>"
      ]
     },
     "metadata": {},
     "output_type": "display_data"
    },
    {
     "data": {
      "text/markdown": [
       "<span style=\"color:#33cc33\">Correct</span>"
      ],
      "text/plain": [
       "Correct"
      ]
     },
     "metadata": {},
     "output_type": "display_data"
    }
   ],
   "source": [
    "\n",
    "reviews.region_1 = reviews.region_1.fillna('Unknown')\n",
    "reviews_per_region = reviews.region_1.value_counts().sort_values(ascending = False)\n",
    "\n",
    "# Check your answer\n",
    "q4.check()"
   ]
  },
  {
   "cell_type": "code",
   "execution_count": 9,
   "id": "a7adbcac",
   "metadata": {
    "execution": {
     "iopub.execute_input": "2023-03-02T16:28:08.654709Z",
     "iopub.status.busy": "2023-03-02T16:28:08.653837Z",
     "iopub.status.idle": "2023-03-02T16:28:08.660689Z",
     "shell.execute_reply": "2023-03-02T16:28:08.660067Z"
    },
    "papermill": {
     "duration": 0.014583,
     "end_time": "2023-03-02T16:28:08.662662",
     "exception": false,
     "start_time": "2023-03-02T16:28:08.648079",
     "status": "completed"
    },
    "tags": []
   },
   "outputs": [
    {
     "data": {
      "application/javascript": [
       "parent.postMessage({\"jupyterEvent\": \"custom.exercise_interaction\", \"data\": {\"interactionType\": 3, \"questionType\": 2, \"questionId\": \"4_ReviewsPerRegion\", \"learnToolsVersion\": \"0.3.4\", \"valueTowardsCompletion\": 0.0, \"failureMessage\": \"\", \"exceptionClass\": \"\", \"trace\": \"\", \"outcomeType\": 4}}, \"*\")"
      ],
      "text/plain": [
       "<IPython.core.display.Javascript object>"
      ]
     },
     "metadata": {},
     "output_type": "display_data"
    },
    {
     "data": {
      "text/markdown": [
       "<span style=\"color:#33cc99\">Solution:</span> \n",
       "```python\n",
       "reviews_per_region = reviews.region_1.fillna('Unknown').value_counts().sort_values(ascending=False)\n",
       "```"
      ],
      "text/plain": [
       "Solution: \n",
       "```python\n",
       "reviews_per_region = reviews.region_1.fillna('Unknown').value_counts().sort_values(ascending=False)\n",
       "```"
      ]
     },
     "metadata": {},
     "output_type": "display_data"
    }
   ],
   "source": [
    "#q4.hint()\n",
    "q4.solution()"
   ]
  },
  {
   "cell_type": "markdown",
   "id": "6e468b22",
   "metadata": {
    "papermill": {
     "duration": 0.004812,
     "end_time": "2023-03-02T16:28:08.672481",
     "exception": false,
     "start_time": "2023-03-02T16:28:08.667669",
     "status": "completed"
    },
    "tags": []
   },
   "source": [
    "# Keep going\n",
    "\n",
    "Move on to **[renaming and combining](https://www.kaggle.com/residentmario/renaming-and-combining)**."
   ]
  },
  {
   "cell_type": "markdown",
   "id": "9a22783f",
   "metadata": {
    "papermill": {
     "duration": 0.00483,
     "end_time": "2023-03-02T16:28:08.682196",
     "exception": false,
     "start_time": "2023-03-02T16:28:08.677366",
     "status": "completed"
    },
    "tags": []
   },
   "source": [
    "---\n",
    "\n",
    "\n",
    "\n",
    "\n",
    "*Have questions or comments? Visit the [course discussion forum](https://www.kaggle.com/learn/pandas/discussion) to chat with other learners.*"
   ]
  }
 ],
 "metadata": {
  "kernelspec": {
   "display_name": "Python 3",
   "language": "python",
   "name": "python3"
  },
  "language_info": {
   "codemirror_mode": {
    "name": "ipython",
    "version": 3
   },
   "file_extension": ".py",
   "mimetype": "text/x-python",
   "name": "python",
   "nbconvert_exporter": "python",
   "pygments_lexer": "ipython3",
   "version": "3.7.12"
  },
  "papermill": {
   "default_parameters": {},
   "duration": 11.761588,
   "end_time": "2023-03-02T16:28:09.409164",
   "environment_variables": {},
   "exception": null,
   "input_path": "__notebook__.ipynb",
   "output_path": "__notebook__.ipynb",
   "parameters": {},
   "start_time": "2023-03-02T16:27:57.647576",
   "version": "2.4.0"
  }
 },
 "nbformat": 4,
 "nbformat_minor": 5
}
