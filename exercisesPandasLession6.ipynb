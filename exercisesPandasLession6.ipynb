{
 "cells": [
  {
   "cell_type": "markdown",
   "id": "a1c6982b",
   "metadata": {
    "papermill": {
     "duration": 0.00683,
     "end_time": "2023-03-02T17:24:02.477932",
     "exception": false,
     "start_time": "2023-03-02T17:24:02.471102",
     "status": "completed"
    },
    "tags": []
   },
   "source": [
    "**This notebook is an exercise in the [Pandas](https://www.kaggle.com/learn/pandas) course.  You can reference the tutorial at [this link](https://www.kaggle.com/residentmario/renaming-and-combining).**\n",
    "\n",
    "---\n"
   ]
  },
  {
   "cell_type": "markdown",
   "id": "76ab6131",
   "metadata": {
    "papermill": {
     "duration": 0.005153,
     "end_time": "2023-03-02T17:24:02.489011",
     "exception": false,
     "start_time": "2023-03-02T17:24:02.483858",
     "status": "completed"
    },
    "tags": []
   },
   "source": [
    "# Introduction\n",
    "\n",
    "Run the following cell to load your data and some utility functions."
   ]
  },
  {
   "cell_type": "code",
   "execution_count": 1,
   "id": "5cdcbb3a",
   "metadata": {
    "execution": {
     "iopub.execute_input": "2023-03-02T17:24:02.502932Z",
     "iopub.status.busy": "2023-03-02T17:24:02.501997Z",
     "iopub.status.idle": "2023-03-02T17:24:07.071242Z",
     "shell.execute_reply": "2023-03-02T17:24:07.069796Z"
    },
    "papermill": {
     "duration": 4.580646,
     "end_time": "2023-03-02T17:24:07.075220",
     "exception": false,
     "start_time": "2023-03-02T17:24:02.494574",
     "status": "completed"
    },
    "tags": []
   },
   "outputs": [
    {
     "name": "stdout",
     "output_type": "stream",
     "text": [
      "Setup complete.\n"
     ]
    }
   ],
   "source": [
    "import pandas as pd\n",
    "\n",
    "reviews = pd.read_csv(\"../input/wine-reviews/winemag-data-130k-v2.csv\", index_col=0)\n",
    "\n",
    "from learntools.core import binder; binder.bind(globals())\n",
    "from learntools.pandas.renaming_and_combining import *\n",
    "print(\"Setup complete.\")"
   ]
  },
  {
   "cell_type": "markdown",
   "id": "3ccf3548",
   "metadata": {
    "papermill": {
     "duration": 0.005526,
     "end_time": "2023-03-02T17:24:07.087137",
     "exception": false,
     "start_time": "2023-03-02T17:24:07.081611",
     "status": "completed"
    },
    "tags": []
   },
   "source": [
    "# Exercises\n",
    "\n",
    "View the first several lines of your data by running the cell below:"
   ]
  },
  {
   "cell_type": "code",
   "execution_count": 2,
   "id": "0ccf8a3b",
   "metadata": {
    "execution": {
     "iopub.execute_input": "2023-03-02T17:24:07.101029Z",
     "iopub.status.busy": "2023-03-02T17:24:07.100431Z",
     "iopub.status.idle": "2023-03-02T17:24:07.136393Z",
     "shell.execute_reply": "2023-03-02T17:24:07.135047Z"
    },
    "papermill": {
     "duration": 0.046257,
     "end_time": "2023-03-02T17:24:07.139196",
     "exception": false,
     "start_time": "2023-03-02T17:24:07.092939",
     "status": "completed"
    },
    "tags": []
   },
   "outputs": [
    {
     "data": {
      "text/html": [
       "<div>\n",
       "<style scoped>\n",
       "    .dataframe tbody tr th:only-of-type {\n",
       "        vertical-align: middle;\n",
       "    }\n",
       "\n",
       "    .dataframe tbody tr th {\n",
       "        vertical-align: top;\n",
       "    }\n",
       "\n",
       "    .dataframe thead th {\n",
       "        text-align: right;\n",
       "    }\n",
       "</style>\n",
       "<table border=\"1\" class=\"dataframe\">\n",
       "  <thead>\n",
       "    <tr style=\"text-align: right;\">\n",
       "      <th></th>\n",
       "      <th>country</th>\n",
       "      <th>description</th>\n",
       "      <th>designation</th>\n",
       "      <th>points</th>\n",
       "      <th>price</th>\n",
       "      <th>province</th>\n",
       "      <th>region_1</th>\n",
       "      <th>region_2</th>\n",
       "      <th>taster_name</th>\n",
       "      <th>taster_twitter_handle</th>\n",
       "      <th>title</th>\n",
       "      <th>variety</th>\n",
       "      <th>winery</th>\n",
       "    </tr>\n",
       "  </thead>\n",
       "  <tbody>\n",
       "    <tr>\n",
       "      <th>0</th>\n",
       "      <td>Italy</td>\n",
       "      <td>Aromas include tropical fruit, broom, brimston...</td>\n",
       "      <td>Vulkà Bianco</td>\n",
       "      <td>87</td>\n",
       "      <td>NaN</td>\n",
       "      <td>Sicily &amp; Sardinia</td>\n",
       "      <td>Etna</td>\n",
       "      <td>NaN</td>\n",
       "      <td>Kerin O’Keefe</td>\n",
       "      <td>@kerinokeefe</td>\n",
       "      <td>Nicosia 2013 Vulkà Bianco  (Etna)</td>\n",
       "      <td>White Blend</td>\n",
       "      <td>Nicosia</td>\n",
       "    </tr>\n",
       "    <tr>\n",
       "      <th>1</th>\n",
       "      <td>Portugal</td>\n",
       "      <td>This is ripe and fruity, a wine that is smooth...</td>\n",
       "      <td>Avidagos</td>\n",
       "      <td>87</td>\n",
       "      <td>15.0</td>\n",
       "      <td>Douro</td>\n",
       "      <td>NaN</td>\n",
       "      <td>NaN</td>\n",
       "      <td>Roger Voss</td>\n",
       "      <td>@vossroger</td>\n",
       "      <td>Quinta dos Avidagos 2011 Avidagos Red (Douro)</td>\n",
       "      <td>Portuguese Red</td>\n",
       "      <td>Quinta dos Avidagos</td>\n",
       "    </tr>\n",
       "    <tr>\n",
       "      <th>2</th>\n",
       "      <td>US</td>\n",
       "      <td>Tart and snappy, the flavors of lime flesh and...</td>\n",
       "      <td>NaN</td>\n",
       "      <td>87</td>\n",
       "      <td>14.0</td>\n",
       "      <td>Oregon</td>\n",
       "      <td>Willamette Valley</td>\n",
       "      <td>Willamette Valley</td>\n",
       "      <td>Paul Gregutt</td>\n",
       "      <td>@paulgwine</td>\n",
       "      <td>Rainstorm 2013 Pinot Gris (Willamette Valley)</td>\n",
       "      <td>Pinot Gris</td>\n",
       "      <td>Rainstorm</td>\n",
       "    </tr>\n",
       "    <tr>\n",
       "      <th>3</th>\n",
       "      <td>US</td>\n",
       "      <td>Pineapple rind, lemon pith and orange blossom ...</td>\n",
       "      <td>Reserve Late Harvest</td>\n",
       "      <td>87</td>\n",
       "      <td>13.0</td>\n",
       "      <td>Michigan</td>\n",
       "      <td>Lake Michigan Shore</td>\n",
       "      <td>NaN</td>\n",
       "      <td>Alexander Peartree</td>\n",
       "      <td>NaN</td>\n",
       "      <td>St. Julian 2013 Reserve Late Harvest Riesling ...</td>\n",
       "      <td>Riesling</td>\n",
       "      <td>St. Julian</td>\n",
       "    </tr>\n",
       "    <tr>\n",
       "      <th>4</th>\n",
       "      <td>US</td>\n",
       "      <td>Much like the regular bottling from 2012, this...</td>\n",
       "      <td>Vintner's Reserve Wild Child Block</td>\n",
       "      <td>87</td>\n",
       "      <td>65.0</td>\n",
       "      <td>Oregon</td>\n",
       "      <td>Willamette Valley</td>\n",
       "      <td>Willamette Valley</td>\n",
       "      <td>Paul Gregutt</td>\n",
       "      <td>@paulgwine</td>\n",
       "      <td>Sweet Cheeks 2012 Vintner's Reserve Wild Child...</td>\n",
       "      <td>Pinot Noir</td>\n",
       "      <td>Sweet Cheeks</td>\n",
       "    </tr>\n",
       "  </tbody>\n",
       "</table>\n",
       "</div>"
      ],
      "text/plain": [
       "    country                                        description  \\\n",
       "0     Italy  Aromas include tropical fruit, broom, brimston...   \n",
       "1  Portugal  This is ripe and fruity, a wine that is smooth...   \n",
       "2        US  Tart and snappy, the flavors of lime flesh and...   \n",
       "3        US  Pineapple rind, lemon pith and orange blossom ...   \n",
       "4        US  Much like the regular bottling from 2012, this...   \n",
       "\n",
       "                          designation  points  price           province  \\\n",
       "0                        Vulkà Bianco      87    NaN  Sicily & Sardinia   \n",
       "1                            Avidagos      87   15.0              Douro   \n",
       "2                                 NaN      87   14.0             Oregon   \n",
       "3                Reserve Late Harvest      87   13.0           Michigan   \n",
       "4  Vintner's Reserve Wild Child Block      87   65.0             Oregon   \n",
       "\n",
       "              region_1           region_2         taster_name  \\\n",
       "0                 Etna                NaN       Kerin O’Keefe   \n",
       "1                  NaN                NaN          Roger Voss   \n",
       "2    Willamette Valley  Willamette Valley        Paul Gregutt   \n",
       "3  Lake Michigan Shore                NaN  Alexander Peartree   \n",
       "4    Willamette Valley  Willamette Valley        Paul Gregutt   \n",
       "\n",
       "  taster_twitter_handle                                              title  \\\n",
       "0          @kerinokeefe                  Nicosia 2013 Vulkà Bianco  (Etna)   \n",
       "1            @vossroger      Quinta dos Avidagos 2011 Avidagos Red (Douro)   \n",
       "2           @paulgwine       Rainstorm 2013 Pinot Gris (Willamette Valley)   \n",
       "3                   NaN  St. Julian 2013 Reserve Late Harvest Riesling ...   \n",
       "4           @paulgwine   Sweet Cheeks 2012 Vintner's Reserve Wild Child...   \n",
       "\n",
       "          variety               winery  \n",
       "0     White Blend              Nicosia  \n",
       "1  Portuguese Red  Quinta dos Avidagos  \n",
       "2      Pinot Gris            Rainstorm  \n",
       "3        Riesling           St. Julian  \n",
       "4      Pinot Noir         Sweet Cheeks  "
      ]
     },
     "execution_count": 2,
     "metadata": {},
     "output_type": "execute_result"
    }
   ],
   "source": [
    "reviews.head()"
   ]
  },
  {
   "cell_type": "markdown",
   "id": "edb2943c",
   "metadata": {
    "papermill": {
     "duration": 0.005614,
     "end_time": "2023-03-02T17:24:07.151129",
     "exception": false,
     "start_time": "2023-03-02T17:24:07.145515",
     "status": "completed"
    },
    "tags": []
   },
   "source": [
    "## 1.\n",
    "`region_1` and `region_2` are pretty uninformative names for locale columns in the dataset. Create a copy of `reviews` with these columns renamed to `region` and `locale`, respectively."
   ]
  },
  {
   "cell_type": "code",
   "execution_count": 3,
   "id": "ac32e875",
   "metadata": {
    "execution": {
     "iopub.execute_input": "2023-03-02T17:24:07.165305Z",
     "iopub.status.busy": "2023-03-02T17:24:07.164538Z",
     "iopub.status.idle": "2023-03-02T17:24:07.209182Z",
     "shell.execute_reply": "2023-03-02T17:24:07.208159Z"
    },
    "papermill": {
     "duration": 0.054773,
     "end_time": "2023-03-02T17:24:07.211649",
     "exception": false,
     "start_time": "2023-03-02T17:24:07.156876",
     "status": "completed"
    },
    "tags": []
   },
   "outputs": [
    {
     "data": {
      "application/javascript": [
       "parent.postMessage({\"jupyterEvent\": \"custom.exercise_interaction\", \"data\": {\"outcomeType\": 1, \"valueTowardsCompletion\": 0.25, \"interactionType\": 1, \"questionType\": 1, \"questionId\": \"1_RenameCols\", \"learnToolsVersion\": \"0.3.4\", \"failureMessage\": \"\", \"exceptionClass\": \"\", \"trace\": \"\"}}, \"*\")"
      ],
      "text/plain": [
       "<IPython.core.display.Javascript object>"
      ]
     },
     "metadata": {},
     "output_type": "display_data"
    },
    {
     "data": {
      "text/markdown": [
       "<span style=\"color:#33cc33\">Correct</span>"
      ],
      "text/plain": [
       "Correct"
      ]
     },
     "metadata": {},
     "output_type": "display_data"
    }
   ],
   "source": [
    "# Your code here\n",
    "renamed = reviews.rename(columns={'region_1' : 'region', 'region_2' : 'locale'})\n",
    "\n",
    "# Check your answer\n",
    "q1.check()"
   ]
  },
  {
   "cell_type": "code",
   "execution_count": 4,
   "id": "661acafc",
   "metadata": {
    "execution": {
     "iopub.execute_input": "2023-03-02T17:24:07.227389Z",
     "iopub.status.busy": "2023-03-02T17:24:07.226435Z",
     "iopub.status.idle": "2023-03-02T17:24:07.230721Z",
     "shell.execute_reply": "2023-03-02T17:24:07.229847Z"
    },
    "papermill": {
     "duration": 0.014909,
     "end_time": "2023-03-02T17:24:07.233007",
     "exception": false,
     "start_time": "2023-03-02T17:24:07.218098",
     "status": "completed"
    },
    "tags": []
   },
   "outputs": [],
   "source": [
    "#q1.hint()\n",
    "#q1.solution()"
   ]
  },
  {
   "cell_type": "markdown",
   "id": "8a49fc9d",
   "metadata": {
    "papermill": {
     "duration": 0.006085,
     "end_time": "2023-03-02T17:24:07.245687",
     "exception": false,
     "start_time": "2023-03-02T17:24:07.239602",
     "status": "completed"
    },
    "tags": []
   },
   "source": [
    "## 2.\n",
    "Set the index name in the dataset to `wines`."
   ]
  },
  {
   "cell_type": "code",
   "execution_count": 5,
   "id": "c2cb6578",
   "metadata": {
    "execution": {
     "iopub.execute_input": "2023-03-02T17:24:07.261141Z",
     "iopub.status.busy": "2023-03-02T17:24:07.260241Z",
     "iopub.status.idle": "2023-03-02T17:24:07.301098Z",
     "shell.execute_reply": "2023-03-02T17:24:07.300193Z"
    },
    "papermill": {
     "duration": 0.051445,
     "end_time": "2023-03-02T17:24:07.303424",
     "exception": false,
     "start_time": "2023-03-02T17:24:07.251979",
     "status": "completed"
    },
    "tags": []
   },
   "outputs": [
    {
     "data": {
      "application/javascript": [
       "parent.postMessage({\"jupyterEvent\": \"custom.exercise_interaction\", \"data\": {\"outcomeType\": 1, \"valueTowardsCompletion\": 0.25, \"interactionType\": 1, \"questionType\": 1, \"questionId\": \"2_RenameIndex\", \"learnToolsVersion\": \"0.3.4\", \"failureMessage\": \"\", \"exceptionClass\": \"\", \"trace\": \"\"}}, \"*\")"
      ],
      "text/plain": [
       "<IPython.core.display.Javascript object>"
      ]
     },
     "metadata": {},
     "output_type": "display_data"
    },
    {
     "data": {
      "text/markdown": [
       "<span style=\"color:#33cc33\">Correct</span>"
      ],
      "text/plain": [
       "Correct"
      ]
     },
     "metadata": {},
     "output_type": "display_data"
    }
   ],
   "source": [
    "reindexed = reviews.rename_axis('wines', axis='rows')\n",
    "\n",
    "# Check your answer\n",
    "q2.check()"
   ]
  },
  {
   "cell_type": "code",
   "execution_count": 6,
   "id": "19013083",
   "metadata": {
    "execution": {
     "iopub.execute_input": "2023-03-02T17:24:07.319193Z",
     "iopub.status.busy": "2023-03-02T17:24:07.318369Z",
     "iopub.status.idle": "2023-03-02T17:24:07.328310Z",
     "shell.execute_reply": "2023-03-02T17:24:07.326955Z"
    },
    "papermill": {
     "duration": 0.021201,
     "end_time": "2023-03-02T17:24:07.331237",
     "exception": false,
     "start_time": "2023-03-02T17:24:07.310036",
     "status": "completed"
    },
    "tags": []
   },
   "outputs": [
    {
     "data": {
      "application/javascript": [
       "parent.postMessage({\"jupyterEvent\": \"custom.exercise_interaction\", \"data\": {\"interactionType\": 3, \"questionType\": 1, \"questionId\": \"2_RenameIndex\", \"learnToolsVersion\": \"0.3.4\", \"valueTowardsCompletion\": 0.0, \"failureMessage\": \"\", \"exceptionClass\": \"\", \"trace\": \"\", \"outcomeType\": 4}}, \"*\")"
      ],
      "text/plain": [
       "<IPython.core.display.Javascript object>"
      ]
     },
     "metadata": {},
     "output_type": "display_data"
    },
    {
     "data": {
      "text/markdown": [
       "<span style=\"color:#33cc99\">Solution:</span> \n",
       "```python\n",
       "reindexed = reviews.rename_axis('wines', axis='rows')\n",
       "```"
      ],
      "text/plain": [
       "Solution: \n",
       "```python\n",
       "reindexed = reviews.rename_axis('wines', axis='rows')\n",
       "```"
      ]
     },
     "metadata": {},
     "output_type": "display_data"
    }
   ],
   "source": [
    "#q2.hint()\n",
    "q2.solution()"
   ]
  },
  {
   "cell_type": "markdown",
   "id": "e5674890",
   "metadata": {
    "papermill": {
     "duration": 0.006471,
     "end_time": "2023-03-02T17:24:07.345796",
     "exception": false,
     "start_time": "2023-03-02T17:24:07.339325",
     "status": "completed"
    },
    "tags": []
   },
   "source": [
    "## 3.\n",
    "The [Things on Reddit](https://www.kaggle.com/residentmario/things-on-reddit/data) dataset includes product links from a selection of top-ranked forums (\"subreddits\") on reddit.com. Run the cell below to load a dataframe of products mentioned on the */r/gaming* subreddit and another dataframe for products mentioned on the *r//movies* subreddit."
   ]
  },
  {
   "cell_type": "code",
   "execution_count": 7,
   "id": "334e9b62",
   "metadata": {
    "execution": {
     "iopub.execute_input": "2023-03-02T17:24:07.362653Z",
     "iopub.status.busy": "2023-03-02T17:24:07.361186Z",
     "iopub.status.idle": "2023-03-02T17:24:07.379653Z",
     "shell.execute_reply": "2023-03-02T17:24:07.378373Z"
    },
    "papermill": {
     "duration": 0.029913,
     "end_time": "2023-03-02T17:24:07.382622",
     "exception": false,
     "start_time": "2023-03-02T17:24:07.352709",
     "status": "completed"
    },
    "tags": []
   },
   "outputs": [],
   "source": [
    "gaming_products = pd.read_csv(\"../input/things-on-reddit/top-things/top-things/reddits/g/gaming.csv\")\n",
    "gaming_products['subreddit'] = \"r/gaming\"\n",
    "movie_products = pd.read_csv(\"../input/things-on-reddit/top-things/top-things/reddits/m/movies.csv\")\n",
    "movie_products['subreddit'] = \"r/movies\""
   ]
  },
  {
   "cell_type": "markdown",
   "id": "11978628",
   "metadata": {
    "papermill": {
     "duration": 0.006739,
     "end_time": "2023-03-02T17:24:07.396225",
     "exception": false,
     "start_time": "2023-03-02T17:24:07.389486",
     "status": "completed"
    },
    "tags": []
   },
   "source": [
    "Create a `DataFrame` of products mentioned on *either* subreddit."
   ]
  },
  {
   "cell_type": "code",
   "execution_count": 8,
   "id": "5c36292e",
   "metadata": {
    "execution": {
     "iopub.execute_input": "2023-03-02T17:24:07.412403Z",
     "iopub.status.busy": "2023-03-02T17:24:07.411413Z",
     "iopub.status.idle": "2023-03-02T17:24:07.439510Z",
     "shell.execute_reply": "2023-03-02T17:24:07.438054Z"
    },
    "papermill": {
     "duration": 0.039118,
     "end_time": "2023-03-02T17:24:07.442133",
     "exception": false,
     "start_time": "2023-03-02T17:24:07.403015",
     "status": "completed"
    },
    "tags": []
   },
   "outputs": [
    {
     "name": "stdout",
     "output_type": "stream",
     "text": [
      "                                                name      category  \\\n",
      "0               BOOMco Halo Covenant Needler Blaster  Toys & Games   \n",
      "1  Raspberry PI 3 Model B 1.2GHz 64-bit quad-core...   Electronics   \n",
      "2  CanaKit 5V 2.5A Raspberry Pi 3 Power Supply / ...   Electronics   \n",
      "3  Panasonic K-KJ17MCA4BA Advanced Individual Cel...   Electronics   \n",
      "4  Mayflash GameCube Controller Adapter for Wii U...   Electronics   \n",
      "\n",
      "                                         amazon_link  total_mentions  \\\n",
      "0  https://www.amazon.com/BOOMco-Halo-Covenant-Ne...             4.0   \n",
      "1  https://www.amazon.com/Raspberry-Model-A1-2GHz...            19.0   \n",
      "2  https://www.amazon.com/CanaKit-Raspberry-Suppl...             7.0   \n",
      "3  https://www.amazon.com/Panasonic-Advanced-Indi...            29.0   \n",
      "4  https://www.amazon.com/GameCube-Controller-Ada...            24.0   \n",
      "\n",
      "   subreddit_mentions subreddit  \n",
      "0                   4  r/gaming  \n",
      "1                   3  r/gaming  \n",
      "2                   3  r/gaming  \n",
      "3                   2  r/gaming  \n",
      "4                   2  r/gaming  \n",
      "Próximo\n",
      "                                                name     category  \\\n",
      "0  Marvel Cinematic Universe: Phase One - Avenger...  Movies & TV   \n",
      "1                                  On Stranger Tides        Books   \n",
      "2      Superintelligence: Paths, Dangers, Strategies        Books   \n",
      "3                    The Secret History of Star Wars        Books   \n",
      "4  2D Glasses 4 Pack - Turns 3D movies back into ...  Electronics   \n",
      "\n",
      "                                         amazon_link  total_mentions  \\\n",
      "0  https://www.amazon.com/Marvel-Cinematic-Univer...             4.0   \n",
      "1  https://www.amazon.com/Stranger-Tides-Tim-Powe...             3.0   \n",
      "2  https://www.amazon.com/Superintelligence-Dange...             7.0   \n",
      "3  https://www.amazon.com/Secret-History-Star-War...             4.0   \n",
      "4       https://www.amazon.com/gp/product/B00K9E7GCC             3.0   \n",
      "\n",
      "   subreddit_mentions subreddit  \n",
      "0                   3  r/movies  \n",
      "1                   3  r/movies  \n",
      "2                   2  r/movies  \n",
      "3                   2  r/movies  \n",
      "4                   2  r/movies  \n"
     ]
    },
    {
     "data": {
      "application/javascript": [
       "parent.postMessage({\"jupyterEvent\": \"custom.exercise_interaction\", \"data\": {\"outcomeType\": 1, \"valueTowardsCompletion\": 0.25, \"interactionType\": 1, \"questionType\": 2, \"questionId\": \"3_ConcatReddit\", \"learnToolsVersion\": \"0.3.4\", \"failureMessage\": \"\", \"exceptionClass\": \"\", \"trace\": \"\"}}, \"*\")"
      ],
      "text/plain": [
       "<IPython.core.display.Javascript object>"
      ]
     },
     "metadata": {},
     "output_type": "display_data"
    },
    {
     "data": {
      "text/markdown": [
       "<span style=\"color:#33cc33\">Correct</span>"
      ],
      "text/plain": [
       "Correct"
      ]
     },
     "metadata": {},
     "output_type": "display_data"
    }
   ],
   "source": [
    "print(gaming_products.head())\n",
    "print('Próximo')\n",
    "print(movie_products.head())\n",
    "combined_products = pd.concat([gaming_products,movie_products])\n",
    "\n",
    "# Check your answer\n",
    "q3.check()"
   ]
  },
  {
   "cell_type": "code",
   "execution_count": 9,
   "id": "968c8186",
   "metadata": {
    "execution": {
     "iopub.execute_input": "2023-03-02T17:24:07.459453Z",
     "iopub.status.busy": "2023-03-02T17:24:07.458175Z",
     "iopub.status.idle": "2023-03-02T17:24:07.463975Z",
     "shell.execute_reply": "2023-03-02T17:24:07.462930Z"
    },
    "papermill": {
     "duration": 0.017346,
     "end_time": "2023-03-02T17:24:07.466715",
     "exception": false,
     "start_time": "2023-03-02T17:24:07.449369",
     "status": "completed"
    },
    "tags": []
   },
   "outputs": [],
   "source": [
    "#q3.hint()\n",
    "#q3.solution()"
   ]
  },
  {
   "cell_type": "markdown",
   "id": "3f75567c",
   "metadata": {
    "papermill": {
     "duration": 0.00727,
     "end_time": "2023-03-02T17:24:07.481511",
     "exception": false,
     "start_time": "2023-03-02T17:24:07.474241",
     "status": "completed"
    },
    "tags": []
   },
   "source": [
    "## 4.\n",
    "The [Powerlifting Database](https://www.kaggle.com/open-powerlifting/powerlifting-database) dataset on Kaggle includes one CSV table for powerlifting meets and a separate one for powerlifting competitors. Run the cell below to load these datasets into dataframes:"
   ]
  },
  {
   "cell_type": "code",
   "execution_count": 10,
   "id": "699738cb",
   "metadata": {
    "execution": {
     "iopub.execute_input": "2023-03-02T17:24:07.499424Z",
     "iopub.status.busy": "2023-03-02T17:24:07.498885Z",
     "iopub.status.idle": "2023-03-02T17:24:08.436794Z",
     "shell.execute_reply": "2023-03-02T17:24:08.435239Z"
    },
    "papermill": {
     "duration": 0.950593,
     "end_time": "2023-03-02T17:24:08.440327",
     "exception": false,
     "start_time": "2023-03-02T17:24:07.489734",
     "status": "completed"
    },
    "tags": []
   },
   "outputs": [],
   "source": [
    "powerlifting_meets = pd.read_csv(\"../input/powerlifting-database/meets.csv\")\n",
    "powerlifting_competitors = pd.read_csv(\"../input/powerlifting-database/openpowerlifting.csv\")"
   ]
  },
  {
   "cell_type": "markdown",
   "id": "60499d64",
   "metadata": {
    "papermill": {
     "duration": 0.00689,
     "end_time": "2023-03-02T17:24:08.454478",
     "exception": false,
     "start_time": "2023-03-02T17:24:08.447588",
     "status": "completed"
    },
    "tags": []
   },
   "source": [
    "Both tables include references to a `MeetID`, a unique key for each meet (competition) included in the database. Using this, generate a dataset combining the two tables into one."
   ]
  },
  {
   "cell_type": "code",
   "execution_count": 11,
   "id": "a1f9b6f1",
   "metadata": {
    "execution": {
     "iopub.execute_input": "2023-03-02T17:24:08.472037Z",
     "iopub.status.busy": "2023-03-02T17:24:08.470589Z",
     "iopub.status.idle": "2023-03-02T17:24:10.057159Z",
     "shell.execute_reply": "2023-03-02T17:24:10.055862Z"
    },
    "papermill": {
     "duration": 1.598287,
     "end_time": "2023-03-02T17:24:10.059884",
     "exception": false,
     "start_time": "2023-03-02T17:24:08.461597",
     "status": "completed"
    },
    "tags": []
   },
   "outputs": [
    {
     "data": {
      "application/javascript": [
       "parent.postMessage({\"jupyterEvent\": \"custom.exercise_interaction\", \"data\": {\"outcomeType\": 1, \"valueTowardsCompletion\": 0.25, \"interactionType\": 1, \"questionType\": 2, \"questionId\": \"4_JoinLifting\", \"learnToolsVersion\": \"0.3.4\", \"failureMessage\": \"\", \"exceptionClass\": \"\", \"trace\": \"\"}}, \"*\")"
      ],
      "text/plain": [
       "<IPython.core.display.Javascript object>"
      ]
     },
     "metadata": {},
     "output_type": "display_data"
    },
    {
     "data": {
      "text/markdown": [
       "<span style=\"color:#33cc33\">Correct</span>"
      ],
      "text/plain": [
       "Correct"
      ]
     },
     "metadata": {},
     "output_type": "display_data"
    }
   ],
   "source": [
    "powerlifting_combined = pd.merge(powerlifting_meets, powerlifting_competitors, on=['MeetID']).set_index('MeetID')\n",
    "\n",
    "# Check your answer\n",
    "q4.check()"
   ]
  },
  {
   "cell_type": "code",
   "execution_count": 12,
   "id": "6e8c985b",
   "metadata": {
    "execution": {
     "iopub.execute_input": "2023-03-02T17:24:10.077332Z",
     "iopub.status.busy": "2023-03-02T17:24:10.076808Z",
     "iopub.status.idle": "2023-03-02T17:24:10.087236Z",
     "shell.execute_reply": "2023-03-02T17:24:10.085865Z"
    },
    "papermill": {
     "duration": 0.02239,
     "end_time": "2023-03-02T17:24:10.089733",
     "exception": false,
     "start_time": "2023-03-02T17:24:10.067343",
     "status": "completed"
    },
    "tags": []
   },
   "outputs": [
    {
     "data": {
      "application/javascript": [
       "parent.postMessage({\"jupyterEvent\": \"custom.exercise_interaction\", \"data\": {\"interactionType\": 3, \"questionType\": 2, \"questionId\": \"4_JoinLifting\", \"learnToolsVersion\": \"0.3.4\", \"valueTowardsCompletion\": 0.0, \"failureMessage\": \"\", \"exceptionClass\": \"\", \"trace\": \"\", \"outcomeType\": 4}}, \"*\")"
      ],
      "text/plain": [
       "<IPython.core.display.Javascript object>"
      ]
     },
     "metadata": {},
     "output_type": "display_data"
    },
    {
     "data": {
      "text/markdown": [
       "<span style=\"color:#33cc99\">Solution:</span> \n",
       "```python\n",
       "powerlifting_combined = powerlifting_meets.set_index(\"MeetID\").join(powerlifting_competitors.set_index(\"MeetID\"))\n",
       "```"
      ],
      "text/plain": [
       "Solution: \n",
       "```python\n",
       "powerlifting_combined = powerlifting_meets.set_index(\"MeetID\").join(powerlifting_competitors.set_index(\"MeetID\"))\n",
       "```"
      ]
     },
     "metadata": {},
     "output_type": "display_data"
    }
   ],
   "source": [
    "#q4.hint()\n",
    "q4.solution()"
   ]
  },
  {
   "cell_type": "markdown",
   "id": "e684bef9",
   "metadata": {
    "papermill": {
     "duration": 0.007476,
     "end_time": "2023-03-02T17:24:10.104837",
     "exception": false,
     "start_time": "2023-03-02T17:24:10.097361",
     "status": "completed"
    },
    "tags": []
   },
   "source": [
    "# Congratulations!\n",
    "\n",
    "You've finished the Pandas micro-course.  Many data scientists feel efficiency with Pandas is the most useful and practical skill they have, because it allows you to progress quickly in any project you have.\n",
    "\n",
    "If you'd like to apply your new skills to examining geospatial data, you're encouraged to check out our **[Geospatial Analysis](https://www.kaggle.com/learn/geospatial-analysis)** micro-course.\n",
    "\n",
    "You can also take advantage of your Pandas skills by entering a **[Kaggle Competition](https://www.kaggle.com/competitions)** or by answering a question you find interesting using **[Kaggle Datasets](https://www.kaggle.com/datasets)**."
   ]
  },
  {
   "cell_type": "markdown",
   "id": "17b84d2f",
   "metadata": {
    "papermill": {
     "duration": 0.007358,
     "end_time": "2023-03-02T17:24:10.119907",
     "exception": false,
     "start_time": "2023-03-02T17:24:10.112549",
     "status": "completed"
    },
    "tags": []
   },
   "source": [
    "---\n",
    "\n",
    "\n",
    "\n",
    "\n",
    "*Have questions or comments? Visit the [course discussion forum](https://www.kaggle.com/learn/pandas/discussion) to chat with other learners.*"
   ]
  }
 ],
 "metadata": {
  "kernelspec": {
   "display_name": "Python 3",
   "language": "python",
   "name": "python3"
  },
  "language_info": {
   "codemirror_mode": {
    "name": "ipython",
    "version": 3
   },
   "file_extension": ".py",
   "mimetype": "text/x-python",
   "name": "python",
   "nbconvert_exporter": "python",
   "pygments_lexer": "ipython3",
   "version": "3.7.12"
  },
  "papermill": {
   "default_parameters": {},
   "duration": 20.624638,
   "end_time": "2023-03-02T17:24:11.255624",
   "environment_variables": {},
   "exception": null,
   "input_path": "__notebook__.ipynb",
   "output_path": "__notebook__.ipynb",
   "parameters": {},
   "start_time": "2023-03-02T17:23:50.630986",
   "version": "2.4.0"
  }
 },
 "nbformat": 4,
 "nbformat_minor": 5
}
